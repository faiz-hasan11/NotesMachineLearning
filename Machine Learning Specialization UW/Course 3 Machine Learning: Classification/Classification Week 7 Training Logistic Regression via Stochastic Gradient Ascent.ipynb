{
 "cells": [
  {
   "cell_type": "markdown",
   "metadata": {},
   "source": [
    "### Load and process review dataset\n",
    "\n",
    "For this assignment, we will use the same subset of the Amazon product review dataset that we used in Module 3 assignment. The subset was chosen to contain similar numbers of positive and negative reviews, as the original dataset consisted of mostly positive reviews. Load the data file into a data frame products.\n"
   ]
  },
  {
   "cell_type": "code",
   "execution_count": 1,
   "metadata": {},
   "outputs": [
    {
     "data": {
      "text/html": [
       "<div>\n",
       "<style>\n",
       "    .dataframe thead tr:only-child th {\n",
       "        text-align: right;\n",
       "    }\n",
       "\n",
       "    .dataframe thead th {\n",
       "        text-align: left;\n",
       "    }\n",
       "\n",
       "    .dataframe tbody tr th {\n",
       "        vertical-align: top;\n",
       "    }\n",
       "</style>\n",
       "<table border=\"1\" class=\"dataframe\">\n",
       "  <thead>\n",
       "    <tr style=\"text-align: right;\">\n",
       "      <th></th>\n",
       "      <th>name</th>\n",
       "      <th>review</th>\n",
       "      <th>rating</th>\n",
       "      <th>sentiment</th>\n",
       "    </tr>\n",
       "  </thead>\n",
       "  <tbody>\n",
       "    <tr>\n",
       "      <th>0</th>\n",
       "      <td>Stop Pacifier Sucking without tears with Thumb...</td>\n",
       "      <td>All of my kids have cried non-stop when I trie...</td>\n",
       "      <td>5</td>\n",
       "      <td>1</td>\n",
       "    </tr>\n",
       "    <tr>\n",
       "      <th>1</th>\n",
       "      <td>Nature's Lullabies Second Year Sticker Calendar</td>\n",
       "      <td>We wanted to get something to keep track of ou...</td>\n",
       "      <td>5</td>\n",
       "      <td>1</td>\n",
       "    </tr>\n",
       "    <tr>\n",
       "      <th>2</th>\n",
       "      <td>Nature's Lullabies Second Year Sticker Calendar</td>\n",
       "      <td>My daughter had her 1st baby over a year ago. ...</td>\n",
       "      <td>5</td>\n",
       "      <td>1</td>\n",
       "    </tr>\n",
       "    <tr>\n",
       "      <th>3</th>\n",
       "      <td>Lamaze Peekaboo, I Love You</td>\n",
       "      <td>One of baby's first and favorite books, and it...</td>\n",
       "      <td>4</td>\n",
       "      <td>1</td>\n",
       "    </tr>\n",
       "    <tr>\n",
       "      <th>4</th>\n",
       "      <td>SoftPlay Peek-A-Boo Where's Elmo A Children's ...</td>\n",
       "      <td>Very cute interactive book! My son loves this ...</td>\n",
       "      <td>5</td>\n",
       "      <td>1</td>\n",
       "    </tr>\n",
       "  </tbody>\n",
       "</table>\n",
       "</div>"
      ],
      "text/plain": [
       "                                                name  \\\n",
       "0  Stop Pacifier Sucking without tears with Thumb...   \n",
       "1    Nature's Lullabies Second Year Sticker Calendar   \n",
       "2    Nature's Lullabies Second Year Sticker Calendar   \n",
       "3                        Lamaze Peekaboo, I Love You   \n",
       "4  SoftPlay Peek-A-Boo Where's Elmo A Children's ...   \n",
       "\n",
       "                                              review  rating  sentiment  \n",
       "0  All of my kids have cried non-stop when I trie...       5          1  \n",
       "1  We wanted to get something to keep track of ou...       5          1  \n",
       "2  My daughter had her 1st baby over a year ago. ...       5          1  \n",
       "3  One of baby's first and favorite books, and it...       4          1  \n",
       "4  Very cute interactive book! My son loves this ...       5          1  "
      ]
     },
     "execution_count": 1,
     "metadata": {},
     "output_type": "execute_result"
    }
   ],
   "source": [
    "import pandas as pd\n",
    "import numpy as np\n",
    "\n",
    "products = pd.read_csv('amazon_baby_subset.csv')\n",
    "products.head()"
   ]
  },
  {
   "cell_type": "markdown",
   "metadata": {},
   "source": [
    "### Apply text cleaning on the review data\n",
    "\n",
    "In this section, we will perform some simple feature cleaning using data frames. The last assignment used all words in building bag-of-words features, but here we limit ourselves to 193 words (for simplicity). We compiled a list of 193 most frequent words into the JSON file named important_words.json. Load the words into a list important_words."
   ]
  },
  {
   "cell_type": "code",
   "execution_count": 2,
   "metadata": {
    "collapsed": true
   },
   "outputs": [],
   "source": [
    "import json\n",
    "important_words = json.loads(open('important_words.json').read())"
   ]
  },
  {
   "cell_type": "markdown",
   "metadata": {},
   "source": [
    "Let us perform 2 simple data transformations:\n",
    "\n",
    "  *  Remove punctuation\n",
    "  *  Compute word counts (only for important_words)\n",
    "\n",
    "We start with the first item as follows:\n",
    "\n",
    "  *  If your tool supports it, fill n/a values in the review column with empty strings. The n/a values indicate empty reviews. For instance, Pandas's the fillna() method lets you replace all N/A's in the review columns as follows:"
   ]
  },
  {
   "cell_type": "code",
   "execution_count": 3,
   "metadata": {
    "collapsed": true
   },
   "outputs": [],
   "source": [
    "products = products.fillna({'review':''})  # fill in N/A's in the review column"
   ]
  },
  {
   "cell_type": "markdown",
   "metadata": {},
   "source": [
    "* Write a function remove_punctuation that takes a line of text and removes all punctuation from that text. "
   ]
  },
  {
   "cell_type": "code",
   "execution_count": 4,
   "metadata": {
    "collapsed": true
   },
   "outputs": [],
   "source": [
    "def remove_punctuation(text):\n",
    "    import string\n",
    "    translator = str.maketrans('', '', string.punctuation)\n",
    "    return text.translate(translator) "
   ]
  },
  {
   "cell_type": "markdown",
   "metadata": {},
   "source": [
    "* Apply the remove_punctuation function on every element of the review column and assign the result to the new column review_clean. Note. Many data frame packages support apply operation for this type of task. Consult appropriate manuals."
   ]
  },
  {
   "cell_type": "code",
   "execution_count": 5,
   "metadata": {},
   "outputs": [
    {
     "data": {
      "text/html": [
       "<div>\n",
       "<style>\n",
       "    .dataframe thead tr:only-child th {\n",
       "        text-align: right;\n",
       "    }\n",
       "\n",
       "    .dataframe thead th {\n",
       "        text-align: left;\n",
       "    }\n",
       "\n",
       "    .dataframe tbody tr th {\n",
       "        vertical-align: top;\n",
       "    }\n",
       "</style>\n",
       "<table border=\"1\" class=\"dataframe\">\n",
       "  <thead>\n",
       "    <tr style=\"text-align: right;\">\n",
       "      <th></th>\n",
       "      <th>name</th>\n",
       "      <th>review</th>\n",
       "      <th>rating</th>\n",
       "      <th>sentiment</th>\n",
       "      <th>review_clean</th>\n",
       "    </tr>\n",
       "  </thead>\n",
       "  <tbody>\n",
       "    <tr>\n",
       "      <th>0</th>\n",
       "      <td>Stop Pacifier Sucking without tears with Thumb...</td>\n",
       "      <td>All of my kids have cried non-stop when I trie...</td>\n",
       "      <td>5</td>\n",
       "      <td>1</td>\n",
       "      <td>All of my kids have cried nonstop when I tried...</td>\n",
       "    </tr>\n",
       "    <tr>\n",
       "      <th>1</th>\n",
       "      <td>Nature's Lullabies Second Year Sticker Calendar</td>\n",
       "      <td>We wanted to get something to keep track of ou...</td>\n",
       "      <td>5</td>\n",
       "      <td>1</td>\n",
       "      <td>We wanted to get something to keep track of ou...</td>\n",
       "    </tr>\n",
       "    <tr>\n",
       "      <th>2</th>\n",
       "      <td>Nature's Lullabies Second Year Sticker Calendar</td>\n",
       "      <td>My daughter had her 1st baby over a year ago. ...</td>\n",
       "      <td>5</td>\n",
       "      <td>1</td>\n",
       "      <td>My daughter had her 1st baby over a year ago S...</td>\n",
       "    </tr>\n",
       "    <tr>\n",
       "      <th>3</th>\n",
       "      <td>Lamaze Peekaboo, I Love You</td>\n",
       "      <td>One of baby's first and favorite books, and it...</td>\n",
       "      <td>4</td>\n",
       "      <td>1</td>\n",
       "      <td>One of babys first and favorite books and it i...</td>\n",
       "    </tr>\n",
       "    <tr>\n",
       "      <th>4</th>\n",
       "      <td>SoftPlay Peek-A-Boo Where's Elmo A Children's ...</td>\n",
       "      <td>Very cute interactive book! My son loves this ...</td>\n",
       "      <td>5</td>\n",
       "      <td>1</td>\n",
       "      <td>Very cute interactive book My son loves this b...</td>\n",
       "    </tr>\n",
       "  </tbody>\n",
       "</table>\n",
       "</div>"
      ],
      "text/plain": [
       "                                                name  \\\n",
       "0  Stop Pacifier Sucking without tears with Thumb...   \n",
       "1    Nature's Lullabies Second Year Sticker Calendar   \n",
       "2    Nature's Lullabies Second Year Sticker Calendar   \n",
       "3                        Lamaze Peekaboo, I Love You   \n",
       "4  SoftPlay Peek-A-Boo Where's Elmo A Children's ...   \n",
       "\n",
       "                                              review  rating  sentiment  \\\n",
       "0  All of my kids have cried non-stop when I trie...       5          1   \n",
       "1  We wanted to get something to keep track of ou...       5          1   \n",
       "2  My daughter had her 1st baby over a year ago. ...       5          1   \n",
       "3  One of baby's first and favorite books, and it...       4          1   \n",
       "4  Very cute interactive book! My son loves this ...       5          1   \n",
       "\n",
       "                                        review_clean  \n",
       "0  All of my kids have cried nonstop when I tried...  \n",
       "1  We wanted to get something to keep track of ou...  \n",
       "2  My daughter had her 1st baby over a year ago S...  \n",
       "3  One of babys first and favorite books and it i...  \n",
       "4  Very cute interactive book My son loves this b...  "
      ]
     },
     "execution_count": 5,
     "metadata": {},
     "output_type": "execute_result"
    }
   ],
   "source": [
    "products['review_clean'] = products['review'].apply(remove_punctuation)\n",
    "products.head()"
   ]
  },
  {
   "cell_type": "markdown",
   "metadata": {},
   "source": [
    "Now we proceed with the second item. For each word in important_words, we compute a count for the number of times the word occurs in the review. We will store this count in a separate column (one for each word). The result of this feature processing is a single column for each word in important_words which keeps a count of the number of times the respective word occurs in the review text.\n",
    "\n",
    "Note: There are several ways of doing this. One way is to create an anonymous function that counts the occurrence of a particular word and apply it to every element in the review_clean column. Repeat this step for every word in important_words. Your code should be analogous to the following:"
   ]
  },
  {
   "cell_type": "code",
   "execution_count": 6,
   "metadata": {
    "collapsed": true
   },
   "outputs": [],
   "source": [
    "for word in important_words:\n",
    "    products[word] = products['review_clean'].apply(lambda s : s.split().count(word))"
   ]
  },
  {
   "cell_type": "code",
   "execution_count": 7,
   "metadata": {},
   "outputs": [
    {
     "data": {
      "text/html": [
       "<div>\n",
       "<style>\n",
       "    .dataframe thead tr:only-child th {\n",
       "        text-align: right;\n",
       "    }\n",
       "\n",
       "    .dataframe thead th {\n",
       "        text-align: left;\n",
       "    }\n",
       "\n",
       "    .dataframe tbody tr th {\n",
       "        vertical-align: top;\n",
       "    }\n",
       "</style>\n",
       "<table border=\"1\" class=\"dataframe\">\n",
       "  <thead>\n",
       "    <tr style=\"text-align: right;\">\n",
       "      <th></th>\n",
       "      <th>name</th>\n",
       "      <th>review</th>\n",
       "      <th>rating</th>\n",
       "      <th>sentiment</th>\n",
       "      <th>review_clean</th>\n",
       "      <th>baby</th>\n",
       "      <th>one</th>\n",
       "      <th>great</th>\n",
       "      <th>love</th>\n",
       "      <th>use</th>\n",
       "      <th>...</th>\n",
       "      <th>seems</th>\n",
       "      <th>picture</th>\n",
       "      <th>completely</th>\n",
       "      <th>wish</th>\n",
       "      <th>buying</th>\n",
       "      <th>babies</th>\n",
       "      <th>won</th>\n",
       "      <th>tub</th>\n",
       "      <th>almost</th>\n",
       "      <th>either</th>\n",
       "    </tr>\n",
       "  </thead>\n",
       "  <tbody>\n",
       "    <tr>\n",
       "      <th>0</th>\n",
       "      <td>Stop Pacifier Sucking without tears with Thumb...</td>\n",
       "      <td>All of my kids have cried non-stop when I trie...</td>\n",
       "      <td>5</td>\n",
       "      <td>1</td>\n",
       "      <td>All of my kids have cried nonstop when I tried...</td>\n",
       "      <td>0</td>\n",
       "      <td>0</td>\n",
       "      <td>1</td>\n",
       "      <td>0</td>\n",
       "      <td>0</td>\n",
       "      <td>...</td>\n",
       "      <td>0</td>\n",
       "      <td>0</td>\n",
       "      <td>0</td>\n",
       "      <td>0</td>\n",
       "      <td>0</td>\n",
       "      <td>0</td>\n",
       "      <td>0</td>\n",
       "      <td>0</td>\n",
       "      <td>0</td>\n",
       "      <td>0</td>\n",
       "    </tr>\n",
       "    <tr>\n",
       "      <th>1</th>\n",
       "      <td>Nature's Lullabies Second Year Sticker Calendar</td>\n",
       "      <td>We wanted to get something to keep track of ou...</td>\n",
       "      <td>5</td>\n",
       "      <td>1</td>\n",
       "      <td>We wanted to get something to keep track of ou...</td>\n",
       "      <td>0</td>\n",
       "      <td>0</td>\n",
       "      <td>0</td>\n",
       "      <td>0</td>\n",
       "      <td>0</td>\n",
       "      <td>...</td>\n",
       "      <td>0</td>\n",
       "      <td>0</td>\n",
       "      <td>0</td>\n",
       "      <td>0</td>\n",
       "      <td>0</td>\n",
       "      <td>0</td>\n",
       "      <td>0</td>\n",
       "      <td>0</td>\n",
       "      <td>0</td>\n",
       "      <td>0</td>\n",
       "    </tr>\n",
       "    <tr>\n",
       "      <th>2</th>\n",
       "      <td>Nature's Lullabies Second Year Sticker Calendar</td>\n",
       "      <td>My daughter had her 1st baby over a year ago. ...</td>\n",
       "      <td>5</td>\n",
       "      <td>1</td>\n",
       "      <td>My daughter had her 1st baby over a year ago S...</td>\n",
       "      <td>1</td>\n",
       "      <td>0</td>\n",
       "      <td>0</td>\n",
       "      <td>0</td>\n",
       "      <td>0</td>\n",
       "      <td>...</td>\n",
       "      <td>0</td>\n",
       "      <td>0</td>\n",
       "      <td>0</td>\n",
       "      <td>0</td>\n",
       "      <td>0</td>\n",
       "      <td>0</td>\n",
       "      <td>0</td>\n",
       "      <td>0</td>\n",
       "      <td>0</td>\n",
       "      <td>0</td>\n",
       "    </tr>\n",
       "    <tr>\n",
       "      <th>3</th>\n",
       "      <td>Lamaze Peekaboo, I Love You</td>\n",
       "      <td>One of baby's first and favorite books, and it...</td>\n",
       "      <td>4</td>\n",
       "      <td>1</td>\n",
       "      <td>One of babys first and favorite books and it i...</td>\n",
       "      <td>0</td>\n",
       "      <td>0</td>\n",
       "      <td>0</td>\n",
       "      <td>0</td>\n",
       "      <td>0</td>\n",
       "      <td>...</td>\n",
       "      <td>0</td>\n",
       "      <td>0</td>\n",
       "      <td>0</td>\n",
       "      <td>0</td>\n",
       "      <td>0</td>\n",
       "      <td>0</td>\n",
       "      <td>0</td>\n",
       "      <td>0</td>\n",
       "      <td>0</td>\n",
       "      <td>0</td>\n",
       "    </tr>\n",
       "    <tr>\n",
       "      <th>4</th>\n",
       "      <td>SoftPlay Peek-A-Boo Where's Elmo A Children's ...</td>\n",
       "      <td>Very cute interactive book! My son loves this ...</td>\n",
       "      <td>5</td>\n",
       "      <td>1</td>\n",
       "      <td>Very cute interactive book My son loves this b...</td>\n",
       "      <td>0</td>\n",
       "      <td>0</td>\n",
       "      <td>1</td>\n",
       "      <td>0</td>\n",
       "      <td>0</td>\n",
       "      <td>...</td>\n",
       "      <td>0</td>\n",
       "      <td>0</td>\n",
       "      <td>0</td>\n",
       "      <td>0</td>\n",
       "      <td>0</td>\n",
       "      <td>1</td>\n",
       "      <td>0</td>\n",
       "      <td>0</td>\n",
       "      <td>0</td>\n",
       "      <td>0</td>\n",
       "    </tr>\n",
       "  </tbody>\n",
       "</table>\n",
       "<p>5 rows × 198 columns</p>\n",
       "</div>"
      ],
      "text/plain": [
       "                                                name  \\\n",
       "0  Stop Pacifier Sucking without tears with Thumb...   \n",
       "1    Nature's Lullabies Second Year Sticker Calendar   \n",
       "2    Nature's Lullabies Second Year Sticker Calendar   \n",
       "3                        Lamaze Peekaboo, I Love You   \n",
       "4  SoftPlay Peek-A-Boo Where's Elmo A Children's ...   \n",
       "\n",
       "                                              review  rating  sentiment  \\\n",
       "0  All of my kids have cried non-stop when I trie...       5          1   \n",
       "1  We wanted to get something to keep track of ou...       5          1   \n",
       "2  My daughter had her 1st baby over a year ago. ...       5          1   \n",
       "3  One of baby's first and favorite books, and it...       4          1   \n",
       "4  Very cute interactive book! My son loves this ...       5          1   \n",
       "\n",
       "                                        review_clean  baby  one  great  love  \\\n",
       "0  All of my kids have cried nonstop when I tried...     0    0      1     0   \n",
       "1  We wanted to get something to keep track of ou...     0    0      0     0   \n",
       "2  My daughter had her 1st baby over a year ago S...     1    0      0     0   \n",
       "3  One of babys first and favorite books and it i...     0    0      0     0   \n",
       "4  Very cute interactive book My son loves this b...     0    0      1     0   \n",
       "\n",
       "   use   ...    seems  picture  completely  wish  buying  babies  won  tub  \\\n",
       "0    0   ...        0        0           0     0       0       0    0    0   \n",
       "1    0   ...        0        0           0     0       0       0    0    0   \n",
       "2    0   ...        0        0           0     0       0       0    0    0   \n",
       "3    0   ...        0        0           0     0       0       0    0    0   \n",
       "4    0   ...        0        0           0     0       0       1    0    0   \n",
       "\n",
       "   almost  either  \n",
       "0       0       0  \n",
       "1       0       0  \n",
       "2       0       0  \n",
       "3       0       0  \n",
       "4       0       0  \n",
       "\n",
       "[5 rows x 198 columns]"
      ]
     },
     "execution_count": 7,
     "metadata": {},
     "output_type": "execute_result"
    }
   ],
   "source": [
    "products.head()"
   ]
  },
  {
   "cell_type": "markdown",
   "metadata": {},
   "source": [
    "### Split data into training and validation sets\n",
    "\n",
    "We will now split the data into a 90-10 split where 90% is in the training set and 10% is in the validation set. "
   ]
  },
  {
   "cell_type": "code",
   "execution_count": 8,
   "metadata": {},
   "outputs": [
    {
     "data": {
      "text/html": [
       "<div>\n",
       "<style>\n",
       "    .dataframe thead tr:only-child th {\n",
       "        text-align: right;\n",
       "    }\n",
       "\n",
       "    .dataframe thead th {\n",
       "        text-align: left;\n",
       "    }\n",
       "\n",
       "    .dataframe tbody tr th {\n",
       "        vertical-align: top;\n",
       "    }\n",
       "</style>\n",
       "<table border=\"1\" class=\"dataframe\">\n",
       "  <thead>\n",
       "    <tr style=\"text-align: right;\">\n",
       "      <th></th>\n",
       "      <th>name</th>\n",
       "      <th>review</th>\n",
       "      <th>rating</th>\n",
       "      <th>sentiment</th>\n",
       "      <th>review_clean</th>\n",
       "      <th>baby</th>\n",
       "      <th>one</th>\n",
       "      <th>great</th>\n",
       "      <th>love</th>\n",
       "      <th>use</th>\n",
       "      <th>...</th>\n",
       "      <th>seems</th>\n",
       "      <th>picture</th>\n",
       "      <th>completely</th>\n",
       "      <th>wish</th>\n",
       "      <th>buying</th>\n",
       "      <th>babies</th>\n",
       "      <th>won</th>\n",
       "      <th>tub</th>\n",
       "      <th>almost</th>\n",
       "      <th>either</th>\n",
       "    </tr>\n",
       "  </thead>\n",
       "  <tbody>\n",
       "    <tr>\n",
       "      <th>0</th>\n",
       "      <td>Stop Pacifier Sucking without tears with Thumb...</td>\n",
       "      <td>All of my kids have cried non-stop when I trie...</td>\n",
       "      <td>5</td>\n",
       "      <td>1</td>\n",
       "      <td>All of my kids have cried nonstop when I tried...</td>\n",
       "      <td>0</td>\n",
       "      <td>0</td>\n",
       "      <td>1</td>\n",
       "      <td>0</td>\n",
       "      <td>0</td>\n",
       "      <td>...</td>\n",
       "      <td>0</td>\n",
       "      <td>0</td>\n",
       "      <td>0</td>\n",
       "      <td>0</td>\n",
       "      <td>0</td>\n",
       "      <td>0</td>\n",
       "      <td>0</td>\n",
       "      <td>0</td>\n",
       "      <td>0</td>\n",
       "      <td>0</td>\n",
       "    </tr>\n",
       "    <tr>\n",
       "      <th>1</th>\n",
       "      <td>Nature's Lullabies Second Year Sticker Calendar</td>\n",
       "      <td>We wanted to get something to keep track of ou...</td>\n",
       "      <td>5</td>\n",
       "      <td>1</td>\n",
       "      <td>We wanted to get something to keep track of ou...</td>\n",
       "      <td>0</td>\n",
       "      <td>0</td>\n",
       "      <td>0</td>\n",
       "      <td>0</td>\n",
       "      <td>0</td>\n",
       "      <td>...</td>\n",
       "      <td>0</td>\n",
       "      <td>0</td>\n",
       "      <td>0</td>\n",
       "      <td>0</td>\n",
       "      <td>0</td>\n",
       "      <td>0</td>\n",
       "      <td>0</td>\n",
       "      <td>0</td>\n",
       "      <td>0</td>\n",
       "      <td>0</td>\n",
       "    </tr>\n",
       "    <tr>\n",
       "      <th>2</th>\n",
       "      <td>Nature's Lullabies Second Year Sticker Calendar</td>\n",
       "      <td>My daughter had her 1st baby over a year ago. ...</td>\n",
       "      <td>5</td>\n",
       "      <td>1</td>\n",
       "      <td>My daughter had her 1st baby over a year ago S...</td>\n",
       "      <td>1</td>\n",
       "      <td>0</td>\n",
       "      <td>0</td>\n",
       "      <td>0</td>\n",
       "      <td>0</td>\n",
       "      <td>...</td>\n",
       "      <td>0</td>\n",
       "      <td>0</td>\n",
       "      <td>0</td>\n",
       "      <td>0</td>\n",
       "      <td>0</td>\n",
       "      <td>0</td>\n",
       "      <td>0</td>\n",
       "      <td>0</td>\n",
       "      <td>0</td>\n",
       "      <td>0</td>\n",
       "    </tr>\n",
       "    <tr>\n",
       "      <th>3</th>\n",
       "      <td>Lamaze Peekaboo, I Love You</td>\n",
       "      <td>One of baby's first and favorite books, and it...</td>\n",
       "      <td>4</td>\n",
       "      <td>1</td>\n",
       "      <td>One of babys first and favorite books and it i...</td>\n",
       "      <td>0</td>\n",
       "      <td>0</td>\n",
       "      <td>0</td>\n",
       "      <td>0</td>\n",
       "      <td>0</td>\n",
       "      <td>...</td>\n",
       "      <td>0</td>\n",
       "      <td>0</td>\n",
       "      <td>0</td>\n",
       "      <td>0</td>\n",
       "      <td>0</td>\n",
       "      <td>0</td>\n",
       "      <td>0</td>\n",
       "      <td>0</td>\n",
       "      <td>0</td>\n",
       "      <td>0</td>\n",
       "    </tr>\n",
       "    <tr>\n",
       "      <th>4</th>\n",
       "      <td>SoftPlay Peek-A-Boo Where's Elmo A Children's ...</td>\n",
       "      <td>Very cute interactive book! My son loves this ...</td>\n",
       "      <td>5</td>\n",
       "      <td>1</td>\n",
       "      <td>Very cute interactive book My son loves this b...</td>\n",
       "      <td>0</td>\n",
       "      <td>0</td>\n",
       "      <td>1</td>\n",
       "      <td>0</td>\n",
       "      <td>0</td>\n",
       "      <td>...</td>\n",
       "      <td>0</td>\n",
       "      <td>0</td>\n",
       "      <td>0</td>\n",
       "      <td>0</td>\n",
       "      <td>0</td>\n",
       "      <td>1</td>\n",
       "      <td>0</td>\n",
       "      <td>0</td>\n",
       "      <td>0</td>\n",
       "      <td>0</td>\n",
       "    </tr>\n",
       "  </tbody>\n",
       "</table>\n",
       "<p>5 rows × 198 columns</p>\n",
       "</div>"
      ],
      "text/plain": [
       "                                                name  \\\n",
       "0  Stop Pacifier Sucking without tears with Thumb...   \n",
       "1    Nature's Lullabies Second Year Sticker Calendar   \n",
       "2    Nature's Lullabies Second Year Sticker Calendar   \n",
       "3                        Lamaze Peekaboo, I Love You   \n",
       "4  SoftPlay Peek-A-Boo Where's Elmo A Children's ...   \n",
       "\n",
       "                                              review  rating  sentiment  \\\n",
       "0  All of my kids have cried non-stop when I trie...       5          1   \n",
       "1  We wanted to get something to keep track of ou...       5          1   \n",
       "2  My daughter had her 1st baby over a year ago. ...       5          1   \n",
       "3  One of baby's first and favorite books, and it...       4          1   \n",
       "4  Very cute interactive book! My son loves this ...       5          1   \n",
       "\n",
       "                                        review_clean  baby  one  great  love  \\\n",
       "0  All of my kids have cried nonstop when I tried...     0    0      1     0   \n",
       "1  We wanted to get something to keep track of ou...     0    0      0     0   \n",
       "2  My daughter had her 1st baby over a year ago S...     1    0      0     0   \n",
       "3  One of babys first and favorite books and it i...     0    0      0     0   \n",
       "4  Very cute interactive book My son loves this b...     0    0      1     0   \n",
       "\n",
       "   use   ...    seems  picture  completely  wish  buying  babies  won  tub  \\\n",
       "0    0   ...        0        0           0     0       0       0    0    0   \n",
       "1    0   ...        0        0           0     0       0       0    0    0   \n",
       "2    0   ...        0        0           0     0       0       0    0    0   \n",
       "3    0   ...        0        0           0     0       0       0    0    0   \n",
       "4    0   ...        0        0           0     0       0       1    0    0   \n",
       "\n",
       "   almost  either  \n",
       "0       0       0  \n",
       "1       0       0  \n",
       "2       0       0  \n",
       "3       0       0  \n",
       "4       0       0  \n",
       "\n",
       "[5 rows x 198 columns]"
      ]
     },
     "execution_count": 8,
     "metadata": {},
     "output_type": "execute_result"
    }
   ],
   "source": [
    "train_idx = json.loads(open('module-10-assignment-train-idx.json').read())\n",
    "validation_idx = json.loads(open('module-10-assignment-validation-idx.json').read())\n",
    "\n",
    "train_data = products.iloc[train_idx]\n",
    "validation_data = products.iloc[validation_idx]\n",
    "\n",
    "train_data.head()"
   ]
  },
  {
   "cell_type": "markdown",
   "metadata": {},
   "source": [
    "### Convert train_data and validation_data into multi-dimensional arrays.\n",
    "\n",
    "Using the function given in #8 of Module 3 assignment, extract two arrays feature_matrix_train and sentiment_train from train_data. The 2D array feature_matrix_train would contain the content of the columns given by the list important_words. The 1D array sentiment_train would contain the content of the column sentiment. Do the same for validation_data, producing the arrays feature_matrix_valid and sentiment_valid. The code should be analogous to this cell:"
   ]
  },
  {
   "cell_type": "code",
   "execution_count": 9,
   "metadata": {
    "collapsed": true
   },
   "outputs": [],
   "source": [
    "def get_numpy_data(data_frame, features, label):\n",
    "    data_frame['constant'] = 1 # add a constant column to an DataFrame\n",
    "    # prepend variable 'constant' to the features list\n",
    "    features = ['constant'] + features\n",
    "\n",
    "    features_dataframe = data_frame[features]\n",
    "\n",
    "    features_matrix = features_dataframe.as_matrix()\n",
    " \n",
    "    label_dataframe = data_frame[label]\n",
    "    label_array = label_dataframe.as_matrix()\n",
    "\n",
    "    return(features_matrix, label_array)"
   ]
  },
  {
   "cell_type": "code",
   "execution_count": 10,
   "metadata": {},
   "outputs": [
    {
     "name": "stderr",
     "output_type": "stream",
     "text": [
      "/home/qiangwennorge/anaconda3/lib/python3.6/site-packages/ipykernel/__main__.py:2: SettingWithCopyWarning: \n",
      "A value is trying to be set on a copy of a slice from a DataFrame.\n",
      "Try using .loc[row_indexer,col_indexer] = value instead\n",
      "\n",
      "See the caveats in the documentation: http://pandas.pydata.org/pandas-docs/stable/indexing.html#indexing-view-versus-copy\n",
      "  from ipykernel import kernelapp as app\n"
     ]
    }
   ],
   "source": [
    "feature_matrix_train, sentiment_train = get_numpy_data(train_data, important_words, 'sentiment')\n",
    "feature_matrix_valid, sentiment_valid = get_numpy_data(validation_data, important_words, 'sentiment')"
   ]
  },
  {
   "cell_type": "markdown",
   "metadata": {},
   "source": [
    "# Question 1\n",
    "In Module 3 assignment, there were 194 features (an intercept + one feature for each of the 193 important words). In this assignment, we will use stochastic gradient ascent to train the classifier using logistic regression. How does the changing the solver to stochastic gradient ascent affect the number of features? "
   ]
  },
  {
   "cell_type": "code",
   "execution_count": 11,
   "metadata": {},
   "outputs": [
    {
     "data": {
      "text/plain": [
       "(47780, 194)"
      ]
     },
     "execution_count": 11,
     "metadata": {},
     "output_type": "execute_result"
    }
   ],
   "source": [
    "feature_matrix_train.shape"
   ]
  },
  {
   "cell_type": "markdown",
   "metadata": {},
   "source": [
    "* Stays the same"
   ]
  },
  {
   "cell_type": "markdown",
   "metadata": {},
   "source": [
    "### Building on logistic regression\n",
    "\n",
    "Let us now build on Module 3 assignment. Recall from lecture that the link function for logistic regression can be defined as:\n",
    "\n",
    "$P(yi=+1|xi,w)=1 / (1+exp⁡(−w⊺h(xi)))$\n",
    "\n",
    "where the feature vector h(xi) is given by the word counts of important_words in the review xi.\n",
    "\n",
    "We will use the same code as in Module 3 assignment to make probability predictions, since this part is not affected by using stochastic gradient ascent as a solver. Only the way in which the coefficients are learned is affected by using stochastic gradient ascent as a solver. Refer to #10 of Module 3 assignment in order to obtain the function predict_probability."
   ]
  },
  {
   "cell_type": "code",
   "execution_count": 12,
   "metadata": {
    "collapsed": true
   },
   "outputs": [],
   "source": [
    "def predict_probability(feature_matrix, coefficients):\n",
    "    # Take dot product of feature_matrix and coefficients  \n",
    "    \n",
    "    score = np.dot(feature_matrix, coefficients)\n",
    "    \n",
    "    # Compute P(y_i = +1 | x_i, w) using the link function\n",
    "    \n",
    "    predictions = 1.0 / (1.0 + np.exp(-score))\n",
    "    \n",
    "    # return predictions\n",
    "    return(predictions)"
   ]
  },
  {
   "cell_type": "markdown",
   "metadata": {},
   "source": [
    "### Derivative of log likelihood with respect to a single coefficient\n",
    "\n",
    "Let us now work on making minor changes to how the derivative computation is performed for logistic regression.\n",
    "\n",
    "Recall from the lectures and Module 3 assignment that for logistic regression, the derivative of log likelihood with respect to a single coefficient is as follows:\n",
    "\n",
    "$∂ℓ/∂wj=∑i=1Nhj(xi)(1[yi=+1]−P(yi=+1|xi,w))$\n",
    "\n",
    "Recall that, in the Module 3 assignment, we wrote the function feature_derivative to compute the derivative of log likelihood with respect to a single coefficient wj. Refer to #11 of Module 3 assignment to obtain the function feature_derivative."
   ]
  },
  {
   "cell_type": "code",
   "execution_count": 13,
   "metadata": {
    "collapsed": true
   },
   "outputs": [],
   "source": [
    "def feature_derivative(errors, feature):     \n",
    "    # Compute the dot product of errors and feature\n",
    "    derivative = np.dot(errors, feature)\n",
    "        # Return the derivative\n",
    "    return(derivative)"
   ]
  },
  {
   "cell_type": "markdown",
   "metadata": {},
   "source": [
    "To verify the correctness of the gradient computation, we provide a function for computing average log likelihood (which we recall from the last assignment was a topic detailed in an advanced optional video, and used here for its numerical stability).\n",
    "\n",
    "To track the performance of stochastic gradient ascent, write yourself a function to compute average log likelihood. The average log likelihood is given by the formula\n",
    "\n",
    "$ℓℓA(w)=1N∑i=1N((1[yi=+1]−1)w⊺h(xi)−ln1+exp⁡(−w⊺h(xi)))$\n",
    "\n",
    "Call this function compute_avg_log_likelihood. It should be analogous to the following Python function:\n",
    "\n"
   ]
  },
  {
   "cell_type": "code",
   "execution_count": 14,
   "metadata": {
    "collapsed": true
   },
   "outputs": [],
   "source": [
    "def compute_avg_log_likelihood(feature_matrix, sentiment, coefficients):\n",
    "\n",
    "    indicator = (sentiment==+1)\n",
    "    scores = np.dot(feature_matrix, coefficients)\n",
    "    logexp = np.log(1. + np.exp(-scores))\n",
    "    \n",
    "    # Simple check to prevent overflow\n",
    "    mask = np.isinf(logexp)\n",
    "    logexp[mask] = -scores[mask]   \n",
    "    \n",
    "    lp = np.sum((indicator-1)*scores - logexp)/len(feature_matrix)   \n",
    "    \n",
    "    return lp"
   ]
  },
  {
   "cell_type": "markdown",
   "metadata": {
    "collapsed": true
   },
   "source": [
    "# Question 2\n",
    "Recall from the lecture and the earlier assignment, the log likelihood (without the averaging term) is given by\n",
    "\n",
    "$ℓℓ(w)=∑i=1N((1[yi=+1]−1)wTh(xi)−ln1+exp⁡(−wTh(xi)))$\n",
    "\n",
    "whereas the average log likelihood is given by\n",
    "\n",
    "$ℓℓA(w)=1N∑i=1N((1[yi=+1]−1)wTh(xi)−ln1+exp⁡(−wTh(xi)))$\n",
    "\n",
    "How are the functions ℓℓ(w) and ℓℓA(w) related?"
   ]
  },
  {
   "cell_type": "markdown",
   "metadata": {},
   "source": [
    "* $ℓℓA(w)=(1/N)⋅ℓℓ(w)$"
   ]
  },
  {
   "cell_type": "markdown",
   "metadata": {},
   "source": [
    "### Modifying the derivative for stochastic gradient ascent\n",
    "\n",
    "Recall from the lecture that the gradient for a single data point x_i can be computed using the following formula:\n",
    "\n",
    "$∂ℓi(w)∂wj=hj(xi)1[yi=+1]−P(yi=+1|xi,w)$\n",
    "\n",
    "Computing the gradient for a single data point\n",
    "\n",
    "Do we really need to re-write all our code to modify $∂ℓ(w)/∂wj to ∂ℓi(w)/∂wj$?\n",
    "\n",
    "Thankfully No! We access xi in the training data using feature_matrix_train[i:i+1,:]. Similarly, we access yi in the training data using sentiment_train[i:i+1]. We can compute ∂ℓi(w)/∂wj by re-using all the code written in feature_derivative and predict_probability.\n",
    "\n",
    "Carry out the following steps:\n",
    "\n",
    "  *  First, compute $P(yi=+1|xi,w)$ using the predict_probability function with feature_matrix_train[i:i+1,:] as the first parameter.\n",
    "  *  Next, compute the indicator value 1[yi=+1] using sentiment_train[i:i+1].\n",
    "  *  Finally, call the feature_derivative function with feature_matrix_train[i:i+1,j] as one of the parameters.\n",
    "\n",
    "The following Python cell carries out the steps for j=1 and i=10. (Try this in your own tool.)\n",
    "\n"
   ]
  },
  {
   "cell_type": "code",
   "execution_count": 15,
   "metadata": {},
   "outputs": [
    {
     "name": "stdout",
     "output_type": "stream",
     "text": [
      "Gradient single data point: 0.0\n",
      "           --> Should print 0.0\n"
     ]
    }
   ],
   "source": [
    "j = 1                        # Feature number\n",
    "i = 10                       # Data point number\n",
    "coefficients = np.zeros(194) # A point w at which we are computing the gradient.\n",
    "\n",
    "predictions = predict_probability(feature_matrix_train[i:i+1,:], coefficients)\n",
    "indicator = (sentiment_train[i:i+1]==+1)\n",
    "\n",
    "errors = indicator - predictions\n",
    "gradient_single_data_point = feature_derivative(errors, feature_matrix_train[i:i+1,j])\n",
    "print(\"Gradient single data point: %s\" % gradient_single_data_point)\n",
    "print(\"           --> Should print 0.0\")"
   ]
  },
  {
   "cell_type": "markdown",
   "metadata": {},
   "source": [
    "# Question 3\n",
    "Refer to the sub-section Computing the gradient for a single data point.\n",
    "\n",
    "The code block above computed\n",
    "\n",
    "$∂ℓi(w)∂wj$\n",
    "\n",
    "for j = 1 and i = 10. Is this quantity a scalar or a 194-dimensional vector? "
   ]
  },
  {
   "cell_type": "markdown",
   "metadata": {},
   "source": [
    "* Scalar"
   ]
  },
  {
   "cell_type": "markdown",
   "metadata": {},
   "source": [
    "### Modifying the derivative for using a batch of data points\n",
    "\n",
    "Stochastic gradient estimates the ascent direction using 1 data point, while gradient uses N data points to decide how to update the the parameters. In an optional video, we discussed the details of a simple change that allows us to use a mini-batch of B<=N data points to estimate the ascent direction. This simple approach is faster than regular gradient but less noisy than stochastic gradient that uses only 1 data point. Although we encorage you to watch the optional video on the topic to better understand why mini-batches help stochastic gradient, in this assignment, we will simply use this technique, since the approach is very simple and will improve your results.\n",
    "\n",
    "Given a mini-batch (or a set of data points) xi,xi+1…xi+B, the gradient function for this mini-batch of data points is given by:\n",
    "\n",
    "$∑s=ii+B∂ℓs∂wj=∑s=ii+Bhj(xs)1[ys=+1]−P(ys=+1|xs,w)$\n",
    "\n",
    "Computing the gradient for a \"mini-batch\" of data points\n",
    "\n",
    "We access the points xi,xi+1…xi+B in the training data using feature_matrix_train[i:i+B,:] and y_i in the training data using sentiment_train[i:i+B].\n",
    "\n",
    "Write come code to compute\n",
    "\n",
    "$∑s=ii+B∂ℓs∂wj$\n",
    "\n",
    "for i = 10, j = 1, and B = 10.\n",
    "\n",
    "Your code should be equivalent to the following Python cell:"
   ]
  },
  {
   "cell_type": "code",
   "execution_count": 16,
   "metadata": {},
   "outputs": [
    {
     "name": "stdout",
     "output_type": "stream",
     "text": [
      "Gradient mini-batch data points: 1.0\n",
      "                --> Should print 1.0\n"
     ]
    }
   ],
   "source": [
    "j = 1                        # Feature number\n",
    "i = 10                       # Data point start\n",
    "B = 10                       # Mini-batch size\n",
    "coefficients = np.zeros(194) # A point w at which we are computing the gradient.\n",
    "\n",
    "predictions = predict_probability(feature_matrix_train[i:i+B,:], coefficients)\n",
    "indicator = (sentiment_train[i:i+B]==+1)\n",
    "\n",
    "errors = indicator - predictions\n",
    "gradient_mini_batch = feature_derivative(errors, feature_matrix_train[i:i+B,j])\n",
    "print(\"Gradient mini-batch data points: %s\" % gradient_mini_batch)\n",
    "print(\"                --> Should print 1.0\")"
   ]
  },
  {
   "cell_type": "markdown",
   "metadata": {},
   "source": [
    "# Question 4\n",
    "Refer to the sub-section Modifying the derivative for using a batch of data points.\n",
    "\n",
    "The code block computed\n",
    "\n",
    "$∑s=ii+B∂ℓs(w)∂wj$\n",
    "\n",
    "for j = 10, i = 10, and B = 10. Is this a scalar or a 194-dimensional vector?"
   ]
  },
  {
   "cell_type": "markdown",
   "metadata": {},
   "source": [
    "* Scalar"
   ]
  },
  {
   "cell_type": "markdown",
   "metadata": {},
   "source": [
    "# Question 5\n",
    "For what value of B is the term\n",
    "\n",
    "$∑s=1B∂ℓs(w)∂wj$\n",
    "\n",
    "the same as the full gradient\n",
    "\n",
    "$∂ℓ(w)∂wj$\n",
    "\n",
    "? A numeric answer is expected for this question. Hint: consider the training set we are using now."
   ]
  },
  {
   "cell_type": "code",
   "execution_count": 18,
   "metadata": {},
   "outputs": [
    {
     "data": {
      "text/plain": [
       "47780"
      ]
     },
     "execution_count": 18,
     "metadata": {},
     "output_type": "execute_result"
    }
   ],
   "source": [
    "len(sentiment_train)"
   ]
  },
  {
   "cell_type": "markdown",
   "metadata": {},
   "source": [
    "### Implementing stochastic gradient ascent\n",
    "\n",
    "Now we are ready to implement our own logistic regression with stochastic gradient ascent. The function logistic_regression_SG should accept the following parameters:\n",
    "\n",
    "  *  feature_matrix: 2D array of features\n",
    "  *  sentiment: 1D array of class labels\n",
    "  *  initial_coefficients: 1D array containing initial values of coefficients\n",
    "  *  step_size: a parameter controlling the size of the gradient steps\n",
    "  *  batch_size: size of mini-batch\n",
    "  *  max_iter: number of iterations to run stochastic gradient ascent\n",
    "\n",
    "The function should return the final set of coefficients, along with the list of log likelihood values over time. (In practice, the final set of coefficients is rarely used; it is better to use the average of the last K sets of coefficients instead, where K should be adjusted depending on how fast the log likelihood oscillates around the optimum.)\n",
    "\n",
    "The function logistic_regression_SG carries out the steps shown in the following pseudocode:\n",
    "\n",
    "```pseudo\n",
    "* Create an empty list called log_likelihood_all\n",
    "* Initialize coefficients to initial_coefficients\n",
    "* Set random seed = 1\n",
    "* Shuffle the data before starting the loop below\n",
    "* Set i = 0, the index of current batch\n",
    "\n",
    "* Run the following steps max_iter times, performing linear scans over the data:\n",
    "  * Predict P(y_i = +1|x_i,w) using your predict_probability() function\n",
    "    Make sure to slice the i-th row of feature_matrix with [i:i+batch_size,:]\n",
    "  * Compute indicator value for (y_i = +1)\n",
    "    Make sure to slice the i-th entry with [i:i+batch_size]\n",
    "  * Compute the errors as (indicator - predictions)\n",
    "  * For each coefficients[j]:\n",
    "    - Compute the derivative for coefficients[j] and save it to derivative.\n",
    "      Make sure to slice the i-th row of feature_matrix with [i:i+batch_size,j]\n",
    "    - Compute the product of the step size, the derivative, and (1./batch_size).\n",
    "    - Increment coefficients[j] by the product just computed.\n",
    "  * Compute the average log likelihood over the current batch.\n",
    "    Add this value to the list log_likelihood_all.\n",
    "  * Increment i by batch_size, indicating the progress made so far on the data.\n",
    "  * Check whether we made a complete pass over data by checking\n",
    "    whether (i+batch_size) exceeds the data size. If so, shuffle the data. If not, do nothing.\n",
    "\n",
    "* Return the final set of coefficients, along with the list log_likelihood_all.\n",
    "```\n",
    "\n",
    "At the end of the day, your logistic_regression_SG function should be analogous to this Python function:"
   ]
  },
  {
   "cell_type": "code",
   "execution_count": 23,
   "metadata": {
    "collapsed": true
   },
   "outputs": [],
   "source": [
    "def logistic_regression_SG(feature_matrix, sentiment, initial_coefficients, step_size, batch_size, max_iter):\n",
    "    log_likelihood_all = []\n",
    "\n",
    "    # make sure it's a numpy array\n",
    "    coefficients = np.array(initial_coefficients)\n",
    "    # set seed=1 to produce consistent results\n",
    "    np.random.seed(seed=1)\n",
    "    # Shuffle the data before starting\n",
    "    permutation = np.random.permutation(len(feature_matrix))\n",
    "    feature_matrix = feature_matrix[permutation,:]\n",
    "    sentiment = sentiment[permutation]\n",
    "\n",
    "    i = 0 # index of current batch\n",
    "    # Do a linear scan over data\n",
    "    for itr in range(max_iter):\n",
    "        # Predict P(y_i = +1|x_i,w) using your predict_probability() function\n",
    "        # Make sure to slice the i-th row of feature_matrix with [i:i+batch_size,:]\n",
    "        predictions = predict_probability(feature_matrix[i:i+batch_size,:], coefficients)\n",
    "\n",
    "        # Compute indicator value for (y_i = +1)\n",
    "        # Make sure to slice the i-th entry with [i:i+batch_size]\n",
    "\n",
    "        indicator = (sentiment[i:i+batch_size]==+1)\n",
    "\n",
    "        # Compute the errors as indicator - predictions\n",
    "        errors = indicator - predictions\n",
    "        for j in range(len(coefficients)): # loop over each coefficient\n",
    "            # Recall that feature_matrix[:,j] is the feature column associated with coefficients[j]\n",
    "            # Compute the derivative for coefficients[j] and save it to derivative.\n",
    "            # Make sure to slice the i-th row of feature_matrix with [i:i+batch_size,j]\n",
    "            derivative = feature_derivative(errors, feature_matrix[i:i+batch_size,j])\n",
    "                  # Compute the product of the step size, the derivative, and\n",
    "            # the **normalization constant** (1./batch_size)\n",
    "  \n",
    "            coefficients[j] += (1./batch_size)*(step_size * derivative) \n",
    "\n",
    "        # Checking whether log likelihood is increasing\n",
    "        # Print the log likelihood over the *current batch*\n",
    "        lp = compute_avg_log_likelihood(feature_matrix[i:i+batch_size,:], sentiment[i:i+batch_size],\n",
    "                                        coefficients)\n",
    "        log_likelihood_all.append(lp)\n",
    "        if itr <= 15 or (itr <= 1000 and itr % 100 == 0) or (itr <= 10000 and itr % 1000 == 0) \\\n",
    "         or itr % 10000 == 0 or itr == max_iter-1:\n",
    "            data_size = len(feature_matrix)\n",
    "            print('Iteration %*d: Average log likelihood (of data points  [%0*d:%0*d]) = %.8f' % \\\n",
    "                (int(np.ceil(np.log10(max_iter))), itr, \\\n",
    "                 int(np.ceil(np.log10(data_size))), i, \\\n",
    "                 int(np.ceil(np.log10(data_size))), i+batch_size, lp))\n",
    "\n",
    "        # if we made a complete pass over data, shuffle and restart\n",
    "        i += batch_size\n",
    "        if i+batch_size > len(feature_matrix):\n",
    "            permutation = np.random.permutation(len(feature_matrix))\n",
    "            feature_matrix = feature_matrix[permutation,:]\n",
    "            sentiment = sentiment[permutation]\n",
    "            i = 0                \n",
    "\n",
    "    # We return the list of log likelihoods for plotting purposes.\n",
    "    return coefficients, log_likelihood_all"
   ]
  },
  {
   "cell_type": "markdown",
   "metadata": {},
   "source": [
    "### Compare convergence behavior of stochastic gradient ascent\n",
    "\n",
    "For the remainder of the assignment, we will compare stochastic gradient ascent against batch gradient ascent. For this, we need a reference implementation of batch gradient ascent. But do we need to implement this from scratch?"
   ]
  },
  {
   "cell_type": "markdown",
   "metadata": {},
   "source": [
    "# Question 6\n",
    "For what value of batch size B above is the stochastic gradient ascent function logistic_regression_SG act as a standard gradient ascent algorithm? A numeric answer is expected for this question. Hint: consider the training set we are using now."
   ]
  },
  {
   "cell_type": "code",
   "execution_count": 24,
   "metadata": {},
   "outputs": [
    {
     "data": {
      "text/plain": [
       "47780"
      ]
     },
     "execution_count": 24,
     "metadata": {},
     "output_type": "execute_result"
    }
   ],
   "source": [
    "len(sentiment_train)"
   ]
  },
  {
   "cell_type": "markdown",
   "metadata": {},
   "source": [
    "### Running gradient ascent using the stochastic gradient ascent implementation\n",
    "\n",
    "Instead of implementing batch gradient ascent separately, we save time by re-using the stochastic gradient ascent function we just wrote — to perform gradient ascent, it suffices to set batch_size to the number of data points in the training data. Yes, we did answer above the quiz question for you, but that is an important point to remember in the future :)\n",
    "\n",
    "Small Caveat. The batch gradient ascent implementation here is slightly different than the one in the earlier assignments, as we now normalize the gradient update rule.\n",
    "\n",
    "We now run stochastic gradient ascent over the feature_matrix_train for 10 iterations using:\n",
    "\n",
    " *   initial_coefficients = np.zeros(194)\n",
    " *   step_size = 5e-1\n",
    " *   batch_size = 1\n",
    " *   max_iter = 10"
   ]
  },
  {
   "cell_type": "code",
   "execution_count": 25,
   "metadata": {},
   "outputs": [
    {
     "name": "stdout",
     "output_type": "stream",
     "text": [
      "Iteration 0: Average log likelihood (of data points  [00000:00001]) = -0.25192908\n",
      "Iteration 1: Average log likelihood (of data points  [00001:00002]) = -0.00000001\n",
      "Iteration 2: Average log likelihood (of data points  [00002:00003]) = -0.12692771\n",
      "Iteration 3: Average log likelihood (of data points  [00003:00004]) = -0.02969101\n",
      "Iteration 4: Average log likelihood (of data points  [00004:00005]) = -0.02668819\n",
      "Iteration 5: Average log likelihood (of data points  [00005:00006]) = -0.04332901\n",
      "Iteration 6: Average log likelihood (of data points  [00006:00007]) = -0.02368802\n",
      "Iteration 7: Average log likelihood (of data points  [00007:00008]) = -0.12686897\n",
      "Iteration 8: Average log likelihood (of data points  [00008:00009]) = -0.04468879\n",
      "Iteration 9: Average log likelihood (of data points  [00009:00010]) = -0.00000124\n"
     ]
    }
   ],
   "source": [
    "coefficients, log_likelihood = logistic_regression_SG(feature_matrix_train, sentiment_train,\n",
    "                                        initial_coefficients=np.zeros(194),\n",
    "                                        step_size=5e-1, batch_size=1, max_iter=10)"
   ]
  },
  {
   "cell_type": "markdown",
   "metadata": {},
   "source": [
    "# Question 7\n",
    "When you set batch_size = 1, as each iteration passes, how does the average log likelihood in the batch change?"
   ]
  },
  {
   "cell_type": "markdown",
   "metadata": {},
   "source": [
    "* Fluctuates"
   ]
  },
  {
   "cell_type": "markdown",
   "metadata": {},
   "source": [
    "Now run batch gradient ascent over the feature_matrix_train for 200 iterations using:\n",
    "\n",
    "  *  initial_coefficients = np.zeros(194)\n",
    "  *  step_size = 5e-1\n",
    "  *  batch_size = number of rows in feature_matrix_train\n",
    "  *  max_iter = 200\n"
   ]
  },
  {
   "cell_type": "code",
   "execution_count": 34,
   "metadata": {},
   "outputs": [
    {
     "name": "stdout",
     "output_type": "stream",
     "text": [
      "Iteration   0: Average log likelihood (of data points  [00000:47780]) = -0.68308119\n",
      "Iteration   1: Average log likelihood (of data points  [00000:47780]) = -0.67394599\n",
      "Iteration   2: Average log likelihood (of data points  [00000:47780]) = -0.66555129\n",
      "Iteration   3: Average log likelihood (of data points  [00000:47780]) = -0.65779626\n",
      "Iteration   4: Average log likelihood (of data points  [00000:47780]) = -0.65060701\n",
      "Iteration   5: Average log likelihood (of data points  [00000:47780]) = -0.64392241\n",
      "Iteration   6: Average log likelihood (of data points  [00000:47780]) = -0.63769009\n",
      "Iteration   7: Average log likelihood (of data points  [00000:47780]) = -0.63186462\n",
      "Iteration   8: Average log likelihood (of data points  [00000:47780]) = -0.62640636\n",
      "Iteration   9: Average log likelihood (of data points  [00000:47780]) = -0.62128063\n",
      "Iteration  10: Average log likelihood (of data points  [00000:47780]) = -0.61645691\n",
      "Iteration  11: Average log likelihood (of data points  [00000:47780]) = -0.61190832\n",
      "Iteration  12: Average log likelihood (of data points  [00000:47780]) = -0.60761103\n",
      "Iteration  13: Average log likelihood (of data points  [00000:47780]) = -0.60354390\n",
      "Iteration  14: Average log likelihood (of data points  [00000:47780]) = -0.59968811\n",
      "Iteration  15: Average log likelihood (of data points  [00000:47780]) = -0.59602682\n",
      "Iteration 100: Average log likelihood (of data points  [00000:47780]) = -0.49520194\n",
      "Iteration 199: Average log likelihood (of data points  [00000:47780]) = -0.47126953\n"
     ]
    }
   ],
   "source": [
    "coefficients_batch, log_likelihood_batch = logistic_regression_SG(feature_matrix_train, sentiment_train,\n",
    "                                        initial_coefficients=np.zeros(194),\n",
    "                                        step_size=5e-1, batch_size=len(feature_matrix_train), max_iter=200)"
   ]
  },
  {
   "cell_type": "markdown",
   "metadata": {},
   "source": [
    "# Question 8\n",
    "When you set batch_size = len(feature_matrix_train), as each iteration passes, how does the average log likelihood in the batch change?"
   ]
  },
  {
   "cell_type": "markdown",
   "metadata": {},
   "source": [
    "* Increases"
   ]
  },
  {
   "cell_type": "markdown",
   "metadata": {},
   "source": [
    "### Make \"passes\" over the dataset\n",
    "\n",
    "To make a fair comparison betweeen stochastic gradient ascent and batch gradient ascent, we measure the average log likelihood as a function of the number of passes (defined as follows):\n",
    "\n",
    "[# of passes]=[# of data points touched so far]/[size of dataset]"
   ]
  },
  {
   "cell_type": "markdown",
   "metadata": {},
   "source": [
    "# Question 9\n",
    "Suppose that we run stochastic gradient ascent with a batch size of 100. How many gradient updates are performed at the end of two passes over a dataset consisting of 50000 data points? "
   ]
  },
  {
   "cell_type": "code",
   "execution_count": 27,
   "metadata": {},
   "outputs": [
    {
     "data": {
      "text/plain": [
       "1000.0"
      ]
     },
     "execution_count": 27,
     "metadata": {},
     "output_type": "execute_result"
    }
   ],
   "source": [
    "2 * 50000 / 100"
   ]
  },
  {
   "cell_type": "markdown",
   "metadata": {},
   "source": [
    "### Log likelihood plots for stochastic gradient ascent\n",
    "\n",
    "With the terminology in mind, let us run stochastic gradient ascent for 10 passes. We will use\n",
    "\n",
    " *   step_size=1e-1\n",
    " *   batch_size=100\n",
    " *   initial_coefficients set to all zeros."
   ]
  },
  {
   "cell_type": "code",
   "execution_count": 29,
   "metadata": {},
   "outputs": [
    {
     "name": "stdout",
     "output_type": "stream",
     "text": [
      "Iteration    0: Average log likelihood (of data points  [00000:00100]) = -0.68251093\n",
      "Iteration    1: Average log likelihood (of data points  [00100:00200]) = -0.67845294\n",
      "Iteration    2: Average log likelihood (of data points  [00200:00300]) = -0.68207160\n",
      "Iteration    3: Average log likelihood (of data points  [00300:00400]) = -0.67411325\n",
      "Iteration    4: Average log likelihood (of data points  [00400:00500]) = -0.67804438\n",
      "Iteration    5: Average log likelihood (of data points  [00500:00600]) = -0.67712546\n",
      "Iteration    6: Average log likelihood (of data points  [00600:00700]) = -0.66377074\n",
      "Iteration    7: Average log likelihood (of data points  [00700:00800]) = -0.67321231\n",
      "Iteration    8: Average log likelihood (of data points  [00800:00900]) = -0.66923613\n",
      "Iteration    9: Average log likelihood (of data points  [00900:01000]) = -0.67479446\n",
      "Iteration   10: Average log likelihood (of data points  [01000:01100]) = -0.66501639\n",
      "Iteration   11: Average log likelihood (of data points  [01100:01200]) = -0.65591964\n",
      "Iteration   12: Average log likelihood (of data points  [01200:01300]) = -0.66240398\n",
      "Iteration   13: Average log likelihood (of data points  [01300:01400]) = -0.66440641\n",
      "Iteration   14: Average log likelihood (of data points  [01400:01500]) = -0.65782757\n",
      "Iteration   15: Average log likelihood (of data points  [01500:01600]) = -0.64571479\n",
      "Iteration  100: Average log likelihood (of data points  [10000:10100]) = -0.60976663\n",
      "Iteration  200: Average log likelihood (of data points  [20000:20100]) = -0.54566060\n",
      "Iteration  300: Average log likelihood (of data points  [30000:30100]) = -0.48245740\n",
      "Iteration  400: Average log likelihood (of data points  [40000:40100]) = -0.46629313\n",
      "Iteration  500: Average log likelihood (of data points  [02300:02400]) = -0.47223389\n",
      "Iteration  600: Average log likelihood (of data points  [12300:12400]) = -0.52216798\n",
      "Iteration  700: Average log likelihood (of data points  [22300:22400]) = -0.52336683\n",
      "Iteration  800: Average log likelihood (of data points  [32300:32400]) = -0.46963453\n",
      "Iteration  900: Average log likelihood (of data points  [42300:42400]) = -0.47883783\n",
      "Iteration 1000: Average log likelihood (of data points  [04600:04700]) = -0.46988191\n",
      "Iteration 2000: Average log likelihood (of data points  [09200:09300]) = -0.46365531\n",
      "Iteration 3000: Average log likelihood (of data points  [13800:13900]) = -0.36466901\n",
      "Iteration 4000: Average log likelihood (of data points  [18400:18500]) = -0.51096892\n",
      "Iteration 4769: Average log likelihood (of data points  [47600:47700]) = -0.54670667\n"
     ]
    }
   ],
   "source": [
    "step_size = 1e-1\n",
    "batch_size = 100\n",
    "num_passes = 10\n",
    "num_iterations = num_passes * int(len(feature_matrix_train)/batch_size)\n",
    "\n",
    "coefficients_sgd, log_likelihood_sgd = logistic_regression_SG(feature_matrix_train, sentiment_train,\n",
    "                                       initial_coefficients=np.zeros(194),\n",
    "                                       step_size=1e-1, batch_size=100, max_iter=num_iterations)"
   ]
  },
  {
   "cell_type": "markdown",
   "metadata": {},
   "source": [
    "Write yourself a function to generate a plot of the average log likelihood as a function of the number of passes. The function should accept the following parameters:\n",
    "\n",
    " *   log_likelihood_all, the list of average log likelihood over time\n",
    " *   len_data, number of data points in the training set\n",
    " *   batch_size, size of each mini-batch\n",
    " *   smoothing_window, a parameter for computing moving averages\n",
    "\n",
    "The function should first compute moving averages of log_likelihood_all. To do this efficiently, convolve log_likelihood_all with the vector of length smoothing_window that is filled with the value 1/smoothing_window.\n",
    "\n",
    "The function then plot the moving averages over the number of passes over the data. Use len_data and batch_size to convert iteration number of (fractional) number of passes.\n",
    "\n",
    "Using matplotlib, the plot-making function would be as follows:"
   ]
  },
  {
   "cell_type": "code",
   "execution_count": 28,
   "metadata": {
    "collapsed": true
   },
   "outputs": [],
   "source": [
    "import matplotlib.pyplot as plt\n",
    "%matplotlib inline\n",
    "\n",
    "def make_plot(log_likelihood_all, len_data, batch_size, smoothing_window=1, label=''):\n",
    "    plt.rcParams.update({'figure.figsize': (9,5)})\n",
    "    log_likelihood_all_ma = np.convolve(np.array(log_likelihood_all), \\\n",
    "                                        np.ones((smoothing_window,))/smoothing_window, mode='valid')\n",
    "\n",
    "    plt.plot(np.array(range(smoothing_window-1, len(log_likelihood_all)))*float(batch_size)/len_data,\n",
    "             log_likelihood_all_ma, linewidth=4.0, label=label)\n",
    "    plt.rcParams.update({'font.size': 16})\n",
    "    plt.tight_layout()\n",
    "    plt.xlabel('# of passes over data')\n",
    "    plt.ylabel('Average log likelihood per data point')\n",
    "    plt.legend(loc='lower right', prop={'size':14})"
   ]
  },
  {
   "cell_type": "code",
   "execution_count": 30,
   "metadata": {},
   "outputs": [
    {
     "data": {
      "image/png": "[encoded data removed]",
      "text/plain": [
       "<matplotlib.figure.Figure at 0x7f55ae8020b8>"
      ]
     },
     "metadata": {},
     "output_type": "display_data"
    }
   ],
   "source": [
    "make_plot(log_likelihood_sgd, len_data=len(feature_matrix_train), batch_size=100,\n",
    "          label='stochastic gradient, step_size=1e-1')"
   ]
  },
  {
   "cell_type": "code",
   "execution_count": 31,
   "metadata": {},
   "outputs": [
    {
     "data": {
      "image/png": "[encoded data removed]",
      "text/plain": [
       "<matplotlib.figure.Figure at 0x7f5589d15d30>"
      ]
     },
     "metadata": {},
     "output_type": "display_data"
    }
   ],
   "source": [
    "make_plot(log_likelihood_sgd, len_data=len(feature_matrix_train), batch_size=100,\n",
    "          smoothing_window=30, label='stochastic gradient, step_size=1e-1')"
   ]
  },
  {
   "cell_type": "markdown",
   "metadata": {},
   "source": [
    "### Stochastic gradient ascent vs batch gradient ascent\n",
    "\n",
    "To compare convergence rates for stochastic gradient ascent with batch gradient ascent, we call make_plot() multiple times.\n",
    "\n",
    "We are comparing:\n",
    "\n",
    "  *  stochastic gradient ascent: step_size = 0.1, batch_size=100\n",
    "  *  batch gradient ascent: step_size = 0.5, batch_size=[# rows in feature_matrix_train]\n",
    "\n",
    "Write code to run stochastic gradient ascent for 200 passes using:\n",
    "\n",
    " *   step_size=1e-1\n",
    " *   batch_size=100\n",
    " *   initial_coefficients set to all zeros.\n",
    "\n",
    "For batch gradient ascent, use the results obtained from #17.\n",
    "\n",
    "We compare the convergence of stochastic gradient ascent and batch gradient ascent by calling the make_plot function. Apply smoothing with smoothing_window=30."
   ]
  },
  {
   "cell_type": "code",
   "execution_count": 32,
   "metadata": {},
   "outputs": [
    {
     "name": "stdout",
     "output_type": "stream",
     "text": [
      "Iteration     0: Average log likelihood (of data points  [00000:00100]) = -0.68251093\n",
      "Iteration     1: Average log likelihood (of data points  [00100:00200]) = -0.67845294\n",
      "Iteration     2: Average log likelihood (of data points  [00200:00300]) = -0.68207160\n",
      "Iteration     3: Average log likelihood (of data points  [00300:00400]) = -0.67411325\n",
      "Iteration     4: Average log likelihood (of data points  [00400:00500]) = -0.67804438\n",
      "Iteration     5: Average log likelihood (of data points  [00500:00600]) = -0.67712546\n",
      "Iteration     6: Average log likelihood (of data points  [00600:00700]) = -0.66377074\n",
      "Iteration     7: Average log likelihood (of data points  [00700:00800]) = -0.67321231\n",
      "Iteration     8: Average log likelihood (of data points  [00800:00900]) = -0.66923613\n",
      "Iteration     9: Average log likelihood (of data points  [00900:01000]) = -0.67479446\n",
      "Iteration    10: Average log likelihood (of data points  [01000:01100]) = -0.66501639\n",
      "Iteration    11: Average log likelihood (of data points  [01100:01200]) = -0.65591964\n",
      "Iteration    12: Average log likelihood (of data points  [01200:01300]) = -0.66240398\n",
      "Iteration    13: Average log likelihood (of data points  [01300:01400]) = -0.66440641\n",
      "Iteration    14: Average log likelihood (of data points  [01400:01500]) = -0.65782757\n",
      "Iteration    15: Average log likelihood (of data points  [01500:01600]) = -0.64571479\n",
      "Iteration   100: Average log likelihood (of data points  [10000:10100]) = -0.60976663\n",
      "Iteration   200: Average log likelihood (of data points  [20000:20100]) = -0.54566060\n",
      "Iteration   300: Average log likelihood (of data points  [30000:30100]) = -0.48245740\n",
      "Iteration   400: Average log likelihood (of data points  [40000:40100]) = -0.46629313\n",
      "Iteration   500: Average log likelihood (of data points  [02300:02400]) = -0.47223389\n",
      "Iteration   600: Average log likelihood (of data points  [12300:12400]) = -0.52216798\n",
      "Iteration   700: Average log likelihood (of data points  [22300:22400]) = -0.52336683\n",
      "Iteration   800: Average log likelihood (of data points  [32300:32400]) = -0.46963453\n",
      "Iteration   900: Average log likelihood (of data points  [42300:42400]) = -0.47883783\n",
      "Iteration  1000: Average log likelihood (of data points  [04600:04700]) = -0.46988191\n",
      "Iteration  2000: Average log likelihood (of data points  [09200:09300]) = -0.46365531\n",
      "Iteration  3000: Average log likelihood (of data points  [13800:13900]) = -0.36466901\n",
      "Iteration  4000: Average log likelihood (of data points  [18400:18500]) = -0.51096892\n",
      "Iteration  5000: Average log likelihood (of data points  [23000:23100]) = -0.43544394\n",
      "Iteration  6000: Average log likelihood (of data points  [27600:27700]) = -0.45656653\n",
      "Iteration  7000: Average log likelihood (of data points  [32200:32300]) = -0.42656766\n",
      "Iteration  8000: Average log likelihood (of data points  [36800:36900]) = -0.39989352\n",
      "Iteration  9000: Average log likelihood (of data points  [41400:41500]) = -0.45267388\n",
      "Iteration 10000: Average log likelihood (of data points  [46000:46100]) = -0.45394262\n",
      "Iteration 20000: Average log likelihood (of data points  [44300:44400]) = -0.48958438\n",
      "Iteration 30000: Average log likelihood (of data points  [42600:42700]) = -0.41913672\n",
      "Iteration 40000: Average log likelihood (of data points  [40900:41000]) = -0.45899229\n",
      "Iteration 50000: Average log likelihood (of data points  [39200:39300]) = -0.46859254\n",
      "Iteration 60000: Average log likelihood (of data points  [37500:37600]) = -0.41599369\n",
      "Iteration 70000: Average log likelihood (of data points  [35800:35900]) = -0.49905981\n",
      "Iteration 80000: Average log likelihood (of data points  [34100:34200]) = -0.45494095\n",
      "Iteration 90000: Average log likelihood (of data points  [32400:32500]) = -0.43220080\n",
      "Iteration 95399: Average log likelihood (of data points  [47600:47700]) = -0.50265709\n"
     ]
    }
   ],
   "source": [
    "step_size = 1e-1\n",
    "batch_size = 100\n",
    "num_passes = 200\n",
    "num_iterations = num_passes * int(len(feature_matrix_train)/batch_size)\n",
    "\n",
    "coefficients_sgd, log_likelihood_sgd = logistic_regression_SG(feature_matrix_train, sentiment_train,\n",
    "                                       initial_coefficients=np.zeros(194),\n",
    "                                       step_size=step_size, batch_size=batch_size, max_iter=num_iterations)"
   ]
  },
  {
   "cell_type": "code",
   "execution_count": 35,
   "metadata": {},
   "outputs": [
    {
     "data": {
      "image/png": "[encoded data removed]",
      "text/plain": [
       "<matplotlib.figure.Figure at 0x7f5589c15be0>"
      ]
     },
     "metadata": {},
     "output_type": "display_data"
    }
   ],
   "source": [
    "make_plot(log_likelihood_sgd, len_data=len(feature_matrix_train), batch_size=100,\n",
    "          smoothing_window=30, label='stochastic, step_size=1e-1')\n",
    "make_plot(log_likelihood_batch, len_data=len(feature_matrix_train), batch_size=len(feature_matrix_train),\n",
    "          smoothing_window=1, label='batch, step_size=5e-1')"
   ]
  },
  {
   "cell_type": "markdown",
   "metadata": {},
   "source": [
    "# Question 10\n",
    "\n",
    "Refer to the section Stochastic gradient ascent vs gradient ascent.\n",
    "\n",
    "In the first figure, how many passes does batch gradient ascent need to achieve a similar log likelihood as stochastic gradient ascent? "
   ]
  },
  {
   "cell_type": "markdown",
   "metadata": {},
   "source": [
    "* 150 passes or more"
   ]
  },
  {
   "cell_type": "markdown",
   "metadata": {},
   "source": [
    "### Explore the effects of step sizes on stochastic gradient ascent\n",
    "\n",
    "In previous sections, we chose step sizes for you. In practice, it helps to know how to choose good step sizes yourself.\n",
    "\n",
    "To start, we explore a wide range of step sizes that are equally spaced in the log space. Run stochastic gradient ascent with step_size set to 1e-4, 1e-3, 1e-2, 1e-1, 1e0, 1e1, and 1e2. Use\n",
    "\n",
    "  *  initial_coefficients=np.zeros(194)\n",
    "  *  batch_size=100\n",
    "  *  max_iter initialized so as to run 10 passes over the data.\n"
   ]
  },
  {
   "cell_type": "code",
   "execution_count": 36,
   "metadata": {},
   "outputs": [
    {
     "name": "stdout",
     "output_type": "stream",
     "text": [
      "Iteration    0: Average log likelihood (of data points  [00000:00100]) = -0.69313622\n",
      "Iteration    1: Average log likelihood (of data points  [00100:00200]) = -0.69313170\n",
      "Iteration    2: Average log likelihood (of data points  [00200:00300]) = -0.69313585\n",
      "Iteration    3: Average log likelihood (of data points  [00300:00400]) = -0.69312487\n",
      "Iteration    4: Average log likelihood (of data points  [00400:00500]) = -0.69313157\n",
      "Iteration    5: Average log likelihood (of data points  [00500:00600]) = -0.69313113\n",
      "Iteration    6: Average log likelihood (of data points  [00600:00700]) = -0.69311121\n",
      "Iteration    7: Average log likelihood (of data points  [00700:00800]) = -0.69312692\n",
      "Iteration    8: Average log likelihood (of data points  [00800:00900]) = -0.69312115\n",
      "Iteration    9: Average log likelihood (of data points  [00900:01000]) = -0.69312811\n",
      "Iteration   10: Average log likelihood (of data points  [01000:01100]) = -0.69311286\n",
      "Iteration   11: Average log likelihood (of data points  [01100:01200]) = -0.69310301\n",
      "Iteration   12: Average log likelihood (of data points  [01200:01300]) = -0.69310725\n",
      "Iteration   13: Average log likelihood (of data points  [01300:01400]) = -0.69311567\n",
      "Iteration   14: Average log likelihood (of data points  [01400:01500]) = -0.69310836\n",
      "Iteration   15: Average log likelihood (of data points  [01500:01600]) = -0.69308342\n",
      "Iteration  100: Average log likelihood (of data points  [10000:10100]) = -0.69298918\n",
      "Iteration  200: Average log likelihood (of data points  [20000:20100]) = -0.69277472\n",
      "Iteration  300: Average log likelihood (of data points  [30000:30100]) = -0.69228764\n",
      "Iteration  400: Average log likelihood (of data points  [40000:40100]) = -0.69222554\n",
      "Iteration  500: Average log likelihood (of data points  [02300:02400]) = -0.69186710\n",
      "Iteration  600: Average log likelihood (of data points  [12300:12400]) = -0.69230650\n",
      "Iteration  700: Average log likelihood (of data points  [22300:22400]) = -0.69174220\n",
      "Iteration  800: Average log likelihood (of data points  [32300:32400]) = -0.69139955\n",
      "Iteration  900: Average log likelihood (of data points  [42300:42400]) = -0.69123818\n",
      "Iteration 1000: Average log likelihood (of data points  [04600:04700]) = -0.69088883\n",
      "Iteration 2000: Average log likelihood (of data points  [09200:09300]) = -0.68976850\n",
      "Iteration 3000: Average log likelihood (of data points  [13800:13900]) = -0.68569701\n",
      "Iteration 4000: Average log likelihood (of data points  [18400:18500]) = -0.68597545\n",
      "Iteration 4769: Average log likelihood (of data points  [47600:47700]) = -0.68736824\n",
      "Iteration    0: Average log likelihood (of data points  [00000:00100]) = -0.69303759\n",
      "Iteration    1: Average log likelihood (of data points  [00100:00200]) = -0.69299241\n",
      "Iteration    2: Average log likelihood (of data points  [00200:00300]) = -0.69303389\n",
      "Iteration    3: Average log likelihood (of data points  [00300:00400]) = -0.69292442\n",
      "Iteration    4: Average log likelihood (of data points  [00400:00500]) = -0.69299113\n",
      "Iteration    5: Average log likelihood (of data points  [00500:00600]) = -0.69298668\n",
      "Iteration    6: Average log likelihood (of data points  [00600:00700]) = -0.69278828\n",
      "Iteration    7: Average log likelihood (of data points  [00700:00800]) = -0.69294460\n",
      "Iteration    8: Average log likelihood (of data points  [00800:00900]) = -0.69288708\n",
      "Iteration    9: Average log likelihood (of data points  [00900:01000]) = -0.69295651\n",
      "Iteration   10: Average log likelihood (of data points  [01000:01100]) = -0.69280480\n",
      "Iteration   11: Average log likelihood (of data points  [01100:01200]) = -0.69270635\n",
      "Iteration   12: Average log likelihood (of data points  [01200:01300]) = -0.69274924\n",
      "Iteration   13: Average log likelihood (of data points  [01300:01400]) = -0.69283249\n",
      "Iteration   14: Average log likelihood (of data points  [01400:01500]) = -0.69275924\n",
      "Iteration   15: Average log likelihood (of data points  [01500:01600]) = -0.69251197\n",
      "Iteration  100: Average log likelihood (of data points  [10000:10100]) = -0.69158805\n",
      "Iteration  200: Average log likelihood (of data points  [20000:20100]) = -0.68946852\n",
      "Iteration  300: Average log likelihood (of data points  [30000:30100]) = -0.68492418\n",
      "Iteration  400: Average log likelihood (of data points  [40000:40100]) = -0.68415366\n",
      "Iteration  500: Average log likelihood (of data points  [02300:02400]) = -0.68114554\n",
      "Iteration  600: Average log likelihood (of data points  [12300:12400]) = -0.68489867\n",
      "Iteration  700: Average log likelihood (of data points  [22300:22400]) = -0.68027821\n",
      "Iteration  800: Average log likelihood (of data points  [32300:32400]) = -0.67693088\n",
      "Iteration  900: Average log likelihood (of data points  [42300:42400]) = -0.67561867\n",
      "Iteration 1000: Average log likelihood (of data points  [04600:04700]) = -0.67367588\n",
      "Iteration 2000: Average log likelihood (of data points  [09200:09300]) = -0.66156206\n",
      "Iteration 3000: Average log likelihood (of data points  [13800:13900]) = -0.62798175\n",
      "Iteration 4000: Average log likelihood (of data points  [18400:18500]) = -0.64157978\n",
      "Iteration 4769: Average log likelihood (of data points  [47600:47700]) = -0.64571292\n",
      "Iteration    0: Average log likelihood (of data points  [00000:00100]) = -0.69205420\n",
      "Iteration    1: Average log likelihood (of data points  [00100:00200]) = -0.69160695\n",
      "Iteration    2: Average log likelihood (of data points  [00200:00300]) = -0.69201686\n",
      "Iteration    3: Average log likelihood (of data points  [00300:00400]) = -0.69095428\n",
      "Iteration    4: Average log likelihood (of data points  [00400:00500]) = -0.69159348\n",
      "Iteration    5: Average log likelihood (of data points  [00500:00600]) = -0.69154386\n",
      "Iteration    6: Average log likelihood (of data points  [00600:00700]) = -0.68964000\n",
      "Iteration    7: Average log likelihood (of data points  [00700:00800]) = -0.69112685\n",
      "Iteration    8: Average log likelihood (of data points  [00800:00900]) = -0.69056997\n",
      "Iteration    9: Average log likelihood (of data points  [00900:01000]) = -0.69124730\n",
      "Iteration   10: Average log likelihood (of data points  [01000:01100]) = -0.68980179\n",
      "Iteration   11: Average log likelihood (of data points  [01100:01200]) = -0.68882576\n",
      "Iteration   12: Average log likelihood (of data points  [01200:01300]) = -0.68929536\n",
      "Iteration   13: Average log likelihood (of data points  [01300:01400]) = -0.69003572\n",
      "Iteration   14: Average log likelihood (of data points  [01400:01500]) = -0.68929307\n",
      "Iteration   15: Average log likelihood (of data points  [01500:01600]) = -0.68702353\n",
      "Iteration  100: Average log likelihood (of data points  [10000:10100]) = -0.67916061\n",
      "Iteration  200: Average log likelihood (of data points  [20000:20100]) = -0.66049079\n",
      "Iteration  300: Average log likelihood (of data points  [30000:30100]) = -0.63235099\n",
      "Iteration  400: Average log likelihood (of data points  [40000:40100]) = -0.62183600\n",
      "Iteration  500: Average log likelihood (of data points  [02300:02400]) = -0.61150928\n",
      "Iteration  600: Average log likelihood (of data points  [12300:12400]) = -0.62979300\n",
      "Iteration  700: Average log likelihood (of data points  [22300:22400]) = -0.61553432\n",
      "Iteration  800: Average log likelihood (of data points  [32300:32400]) = -0.59156014\n",
      "Iteration  900: Average log likelihood (of data points  [42300:42400]) = -0.58842264\n",
      "Iteration 1000: Average log likelihood (of data points  [04600:04700]) = -0.59076267\n",
      "Iteration 2000: Average log likelihood (of data points  [09200:09300]) = -0.54480104\n",
      "Iteration 3000: Average log likelihood (of data points  [13800:13900]) = -0.45761063\n",
      "Iteration 4000: Average log likelihood (of data points  [18400:18500]) = -0.54362587\n",
      "Iteration 4769: Average log likelihood (of data points  [47600:47700]) = -0.56306510\n",
      "Iteration    0: Average log likelihood (of data points  [00000:00100]) = -0.68251093\n",
      "Iteration    1: Average log likelihood (of data points  [00100:00200]) = -0.67845294\n",
      "Iteration    2: Average log likelihood (of data points  [00200:00300]) = -0.68207160\n",
      "Iteration    3: Average log likelihood (of data points  [00300:00400]) = -0.67411325\n",
      "Iteration    4: Average log likelihood (of data points  [00400:00500]) = -0.67804438\n",
      "Iteration    5: Average log likelihood (of data points  [00500:00600]) = -0.67712546\n",
      "Iteration    6: Average log likelihood (of data points  [00600:00700]) = -0.66377074\n",
      "Iteration    7: Average log likelihood (of data points  [00700:00800]) = -0.67321231\n",
      "Iteration    8: Average log likelihood (of data points  [00800:00900]) = -0.66923613\n",
      "Iteration    9: Average log likelihood (of data points  [00900:01000]) = -0.67479446\n",
      "Iteration   10: Average log likelihood (of data points  [01000:01100]) = -0.66501639\n",
      "Iteration   11: Average log likelihood (of data points  [01100:01200]) = -0.65591964\n",
      "Iteration   12: Average log likelihood (of data points  [01200:01300]) = -0.66240398\n",
      "Iteration   13: Average log likelihood (of data points  [01300:01400]) = -0.66440641\n",
      "Iteration   14: Average log likelihood (of data points  [01400:01500]) = -0.65782757\n",
      "Iteration   15: Average log likelihood (of data points  [01500:01600]) = -0.64571479\n"
     ]
    },
    {
     "name": "stdout",
     "output_type": "stream",
     "text": [
      "Iteration  100: Average log likelihood (of data points  [10000:10100]) = -0.60976663\n",
      "Iteration  200: Average log likelihood (of data points  [20000:20100]) = -0.54566060\n",
      "Iteration  300: Average log likelihood (of data points  [30000:30100]) = -0.48245740\n",
      "Iteration  400: Average log likelihood (of data points  [40000:40100]) = -0.46629313\n",
      "Iteration  500: Average log likelihood (of data points  [02300:02400]) = -0.47223389\n",
      "Iteration  600: Average log likelihood (of data points  [12300:12400]) = -0.52216798\n",
      "Iteration  700: Average log likelihood (of data points  [22300:22400]) = -0.52336683\n",
      "Iteration  800: Average log likelihood (of data points  [32300:32400]) = -0.46963453\n",
      "Iteration  900: Average log likelihood (of data points  [42300:42400]) = -0.47883783\n",
      "Iteration 1000: Average log likelihood (of data points  [04600:04700]) = -0.46988191\n",
      "Iteration 2000: Average log likelihood (of data points  [09200:09300]) = -0.46365531\n",
      "Iteration 3000: Average log likelihood (of data points  [13800:13900]) = -0.36466901\n",
      "Iteration 4000: Average log likelihood (of data points  [18400:18500]) = -0.51096892\n",
      "Iteration 4769: Average log likelihood (of data points  [47600:47700]) = -0.54670667\n",
      "Iteration    0: Average log likelihood (of data points  [00000:00100]) = -0.61201447\n",
      "Iteration    1: Average log likelihood (of data points  [00100:00200]) = -0.58843678\n",
      "Iteration    2: Average log likelihood (of data points  [00200:00300]) = -0.59771677\n",
      "Iteration    3: Average log likelihood (of data points  [00300:00400]) = -0.58770466\n",
      "Iteration    4: Average log likelihood (of data points  [00400:00500]) = -0.56939710\n",
      "Iteration    5: Average log likelihood (of data points  [00500:00600]) = -0.57554451\n",
      "Iteration    6: Average log likelihood (of data points  [00600:00700]) = -0.54068090\n",
      "Iteration    7: Average log likelihood (of data points  [00700:00800]) = -0.55212916\n",
      "Iteration    8: Average log likelihood (of data points  [00800:00900]) = -0.55311029\n",
      "Iteration    9: Average log likelihood (of data points  [00900:01000]) = -0.57672007\n",
      "Iteration   10: Average log likelihood (of data points  [01000:01100]) = -0.55455807\n",
      "Iteration   11: Average log likelihood (of data points  [01100:01200]) = -0.49771894\n",
      "Iteration   12: Average log likelihood (of data points  [01200:01300]) = -0.54708765\n",
      "Iteration   13: Average log likelihood (of data points  [01300:01400]) = -0.54286814\n",
      "Iteration   14: Average log likelihood (of data points  [01400:01500]) = -0.52361054\n",
      "Iteration   15: Average log likelihood (of data points  [01500:01600]) = -0.49731367\n",
      "Iteration  100: Average log likelihood (of data points  [10000:10100]) = -0.50102061\n",
      "Iteration  200: Average log likelihood (of data points  [20000:20100]) = -0.42406927\n",
      "Iteration  300: Average log likelihood (of data points  [30000:30100]) = -0.35064478\n",
      "Iteration  400: Average log likelihood (of data points  [40000:40100]) = -0.38344116\n",
      "Iteration  500: Average log likelihood (of data points  [02300:02400]) = -0.40170047\n",
      "Iteration  600: Average log likelihood (of data points  [12300:12400]) = -0.45117863\n",
      "Iteration  700: Average log likelihood (of data points  [22300:22400]) = -0.46493371\n",
      "Iteration  800: Average log likelihood (of data points  [32300:32400]) = -0.45343350\n",
      "Iteration  900: Average log likelihood (of data points  [42300:42400]) = -0.43128394\n",
      "Iteration 1000: Average log likelihood (of data points  [04600:04700]) = -0.43169967\n",
      "Iteration 2000: Average log likelihood (of data points  [09200:09300]) = -0.43029376\n",
      "Iteration 3000: Average log likelihood (of data points  [13800:13900]) = -0.32703099\n",
      "Iteration 4000: Average log likelihood (of data points  [18400:18500]) = -0.49162447\n",
      "Iteration 4769: Average log likelihood (of data points  [47600:47700]) = -0.52452720\n",
      "Iteration    0: Average log likelihood (of data points  [00000:00100]) = -0.51319004\n",
      "Iteration    1: Average log likelihood (of data points  [00100:00200]) = -2.20035379\n",
      "Iteration    2: Average log likelihood (of data points  [00200:00300]) = -3.34199720\n",
      "Iteration    3: Average log likelihood (of data points  [00300:00400]) = -3.06285156\n",
      "Iteration    4: Average log likelihood (of data points  [00400:00500]) = -2.80822162\n",
      "Iteration    5: Average log likelihood (of data points  [00500:00600]) = -2.99629286\n",
      "Iteration    6: Average log likelihood (of data points  [00600:00700]) = -2.71489944\n",
      "Iteration    7: Average log likelihood (of data points  [00700:00800]) = -3.61713200\n",
      "Iteration    8: Average log likelihood (of data points  [00800:00900]) = -1.19526584\n",
      "Iteration    9: Average log likelihood (of data points  [00900:01000]) = -0.75357081\n",
      "Iteration   10: Average log likelihood (of data points  [01000:01100]) = -0.71310829\n",
      "Iteration   11: Average log likelihood (of data points  [01100:01200]) = -0.59361318\n",
      "Iteration   12: Average log likelihood (of data points  [01200:01300]) = -1.53764659\n",
      "Iteration   13: Average log likelihood (of data points  [01300:01400]) = -2.69588686\n",
      "Iteration   14: Average log likelihood (of data points  [01400:01500]) = -1.89731473\n",
      "Iteration   15: Average log likelihood (of data points  [01500:01600]) = -0.81254441\n",
      "Iteration  100: Average log likelihood (of data points  [10000:10100]) = -1.19013437\n",
      "Iteration  200: Average log likelihood (of data points  [20000:20100]) = -0.48968363\n",
      "Iteration  300: Average log likelihood (of data points  [30000:30100]) = -0.72860037\n",
      "Iteration  400: Average log likelihood (of data points  [40000:40100]) = -0.58719556\n",
      "Iteration  500: Average log likelihood (of data points  [02300:02400]) = -0.31220572\n",
      "Iteration  600: Average log likelihood (of data points  [12300:12400]) = -1.89468446\n",
      "Iteration  700: Average log likelihood (of data points  [22300:22400]) = -0.96096585\n",
      "Iteration  800: Average log likelihood (of data points  [32300:32400]) = -0.66616640\n",
      "Iteration  900: Average log likelihood (of data points  [42300:42400]) = -0.46114004\n",
      "Iteration 1000: Average log likelihood (of data points  [04600:04700]) = -0.47236476\n",
      "Iteration 2000: Average log likelihood (of data points  [09200:09300]) = -0.45227508\n",
      "Iteration 3000: Average log likelihood (of data points  [13800:13900]) = -0.29378688\n",
      "Iteration 4000: Average log likelihood (of data points  [18400:18500]) = -2.47834692\n",
      "Iteration 4769: Average log likelihood (of data points  [47600:47700]) = -2.48776279\n",
      "Iteration    0: Average log likelihood (of data points  [00000:00100]) = -2.44471310\n",
      "Iteration    1: Average log likelihood (of data points  [00100:00200]) = -36.66862050\n",
      "Iteration    2: Average log likelihood (of data points  [00200:00300]) = -25.49870239\n",
      "Iteration    3: Average log likelihood (of data points  [00300:00400]) = -40.14565040\n",
      "Iteration    4: Average log likelihood (of data points  [00400:00500]) = -27.03748522\n",
      "Iteration    5: Average log likelihood (of data points  [00500:00600]) = -32.62294582\n",
      "Iteration    6: Average log likelihood (of data points  [00600:00700]) = -25.88017915\n",
      "Iteration    7: Average log likelihood (of data points  [00700:00800]) = -37.30720216\n",
      "Iteration    8: Average log likelihood (of data points  [00800:00900]) = -10.87360529\n",
      "Iteration    9: Average log likelihood (of data points  [00900:01000]) = -6.60878996\n",
      "Iteration   10: Average log likelihood (of data points  [01000:01100]) = -7.15375088\n",
      "Iteration   11: Average log likelihood (of data points  [01100:01200]) = -6.04741293\n",
      "Iteration   12: Average log likelihood (of data points  [01200:01300]) = -18.17389834\n",
      "Iteration   13: Average log likelihood (of data points  [01300:01400]) = -27.14619228\n",
      "Iteration   14: Average log likelihood (of data points  [01400:01500]) = -20.50685042\n",
      "Iteration   15: Average log likelihood (of data points  [01500:01600]) = -7.74332305\n"
     ]
    },
    {
     "name": "stderr",
     "output_type": "stream",
     "text": [
      "/home/qiangwennorge/anaconda3/lib/python3.6/site-packages/ipykernel/__main__.py:5: RuntimeWarning: overflow encountered in exp\n",
      "/home/qiangwennorge/anaconda3/lib/python3.6/site-packages/ipykernel/__main__.py:8: RuntimeWarning: overflow encountered in exp\n"
     ]
    },
    {
     "name": "stdout",
     "output_type": "stream",
     "text": [
      "Iteration  100: Average log likelihood (of data points  [10000:10100]) = -10.64501704\n",
      "Iteration  200: Average log likelihood (of data points  [20000:20100]) = -4.03748131\n",
      "Iteration  300: Average log likelihood (of data points  [30000:30100]) = -3.83037593\n",
      "Iteration  400: Average log likelihood (of data points  [40000:40100]) = -3.14931563\n",
      "Iteration  500: Average log likelihood (of data points  [02300:02400]) = -4.80508816\n",
      "Iteration  600: Average log likelihood (of data points  [12300:12400]) = -17.33121209\n",
      "Iteration  700: Average log likelihood (of data points  [22300:22400]) = -8.33353486\n",
      "Iteration  800: Average log likelihood (of data points  [32300:32400]) = -4.52307543\n",
      "Iteration  900: Average log likelihood (of data points  [42300:42400]) = -3.04990545\n",
      "Iteration 1000: Average log likelihood (of data points  [04600:04700]) = -2.84706421\n",
      "Iteration 2000: Average log likelihood (of data points  [09200:09300]) = -4.51026105\n",
      "Iteration 3000: Average log likelihood (of data points  [13800:13900]) = -1.69532123\n",
      "Iteration 4000: Average log likelihood (of data points  [18400:18500]) = -17.53544033\n",
      "Iteration 4769: Average log likelihood (of data points  [47600:47700]) = -3.56060700\n"
     ]
    }
   ],
   "source": [
    "batch_size = 100\n",
    "num_passes = 10\n",
    "num_iterations = num_passes * int(len(feature_matrix_train)/batch_size)\n",
    "\n",
    "coefficients_sgd = {}\n",
    "log_likelihood_sgd = {}\n",
    "for step_size in np.logspace(-4, 2, num=7):\n",
    "    coefficients_sgd[step_size], log_likelihood_sgd[step_size] = logistic_regression_SG(feature_matrix_train, sentiment_train,\n",
    "                                       initial_coefficients=np.zeros(194),\n",
    "                                       step_size=step_size, batch_size=batch_size, max_iter=num_iterations)"
   ]
  },
  {
   "cell_type": "markdown",
   "metadata": {},
   "source": [
    "### Plotting the log likelihood as a function of passes for each step size\n",
    "\n",
    "Now, we will plot the change in log likelihood using the make_plot for each of the following values of step_size:\n",
    "\n",
    "  *  step_size = 1e-4\n",
    "  *  step_size = 1e-3\n",
    "  *  step_size = 1e-2\n",
    "  *  step_size = 1e-1\n",
    "  *  step_size = 1e0\n",
    "  *  step_size = 1e1\n",
    "  *  step_size = 1e2\n",
    "\n",
    "For consistency, use smoothing_window=30."
   ]
  },
  {
   "cell_type": "code",
   "execution_count": 37,
   "metadata": {},
   "outputs": [
    {
     "data": {
      "image/png": "[encoded data removed]",
      "text/plain": [
       "<matplotlib.figure.Figure at 0x7f5589880908>"
      ]
     },
     "metadata": {},
     "output_type": "display_data"
    }
   ],
   "source": [
    "for step_size in np.logspace(-4, 2, num=7):\n",
    "    make_plot(log_likelihood_sgd[step_size], len_data=len(train_data), batch_size=100,\n",
    "              smoothing_window=30, label='step_size=%.1e'%step_size)"
   ]
  },
  {
   "cell_type": "markdown",
   "metadata": {},
   "source": [
    "Remove step_size = 1.0e+02"
   ]
  },
  {
   "cell_type": "code",
   "execution_count": 38,
   "metadata": {},
   "outputs": [
    {
     "data": {
      "image/png": "[encoded data removed]",
      "text/plain": [
       "<matplotlib.figure.Figure at 0x7f5589c53ef0>"
      ]
     },
     "metadata": {},
     "output_type": "display_data"
    }
   ],
   "source": [
    "for step_size in np.logspace(-4, 2, num=7)[0:6]:\n",
    "    make_plot(log_likelihood_sgd[step_size], len_data=len(train_data), batch_size=100,\n",
    "              smoothing_window=30, label='step_size=%.1e'%step_size)"
   ]
  },
  {
   "cell_type": "markdown",
   "metadata": {},
   "source": [
    "# Question 11\n",
    "Questions 11 and 12 refer to the section Plotting the log likelihood as a function of passes for each step size.\n",
    "\n",
    "Which of the following is the worst step size? Pick the step size that results in the lowest log likelihood in the end. "
   ]
  },
  {
   "cell_type": "markdown",
   "metadata": {},
   "source": [
    "* 1e2"
   ]
  },
  {
   "cell_type": "markdown",
   "metadata": {},
   "source": [
    "# Question 12\n",
    "\n",
    "Questions 11 and 12 refer to the section Plotting the log likelihood as a function of passes for each step size.\n",
    "\n",
    "Which of the following is the best step size? Pick the step size that results in the highest log likelihood in the end."
   ]
  },
  {
   "cell_type": "markdown",
   "metadata": {},
   "source": [
    "* 1e0"
   ]
  }
 ],
 "metadata": {
  "kernelspec": {
   "display_name": "Python [default]",
   "language": "python",
   "name": "python3"
  },
  "language_info": {
   "codemirror_mode": {
    "name": "ipython",
    "version": 3
   },
   "file_extension": ".py",
   "mimetype": "text/x-python",
   "name": "python",
   "nbconvert_exporter": "python",
   "pygments_lexer": "ipython3",
   "version": "3.6.2"
  }
 },
 "nbformat": 4,
 "nbformat_minor": 2
}
