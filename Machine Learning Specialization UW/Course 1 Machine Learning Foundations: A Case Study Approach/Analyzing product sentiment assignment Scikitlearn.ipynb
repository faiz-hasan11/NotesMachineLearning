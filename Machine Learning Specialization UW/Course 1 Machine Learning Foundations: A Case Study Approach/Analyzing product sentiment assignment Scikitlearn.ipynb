{
 "cells": [
  {
   "cell_type": "code",
   "execution_count": 1,
   "metadata": {},
   "outputs": [
    {
     "data": {
      "text/html": [
       "<div>\n",
       "<style>\n",
       "    .dataframe thead tr:only-child th {\n",
       "        text-align: right;\n",
       "    }\n",
       "\n",
       "    .dataframe thead th {\n",
       "        text-align: left;\n",
       "    }\n",
       "\n",
       "    .dataframe tbody tr th {\n",
       "        vertical-align: top;\n",
       "    }\n",
       "</style>\n",
       "<table border=\"1\" class=\"dataframe\">\n",
       "  <thead>\n",
       "    <tr style=\"text-align: right;\">\n",
       "      <th></th>\n",
       "      <th>name</th>\n",
       "      <th>review</th>\n",
       "      <th>rating</th>\n",
       "    </tr>\n",
       "  </thead>\n",
       "  <tbody>\n",
       "    <tr>\n",
       "      <th>0</th>\n",
       "      <td>Planetwise Flannel Wipes</td>\n",
       "      <td>These flannel wipes are OK, but in my opinion ...</td>\n",
       "      <td>3</td>\n",
       "    </tr>\n",
       "    <tr>\n",
       "      <th>1</th>\n",
       "      <td>Planetwise Wipe Pouch</td>\n",
       "      <td>it came early and was not disappointed. i love...</td>\n",
       "      <td>5</td>\n",
       "    </tr>\n",
       "    <tr>\n",
       "      <th>2</th>\n",
       "      <td>Annas Dream Full Quilt with 2 Shams</td>\n",
       "      <td>Very soft and comfortable and warmer than it l...</td>\n",
       "      <td>5</td>\n",
       "    </tr>\n",
       "    <tr>\n",
       "      <th>3</th>\n",
       "      <td>Stop Pacifier Sucking without tears with Thumb...</td>\n",
       "      <td>This is a product well worth the purchase.  I ...</td>\n",
       "      <td>5</td>\n",
       "    </tr>\n",
       "    <tr>\n",
       "      <th>4</th>\n",
       "      <td>Stop Pacifier Sucking without tears with Thumb...</td>\n",
       "      <td>All of my kids have cried non-stop when I trie...</td>\n",
       "      <td>5</td>\n",
       "    </tr>\n",
       "  </tbody>\n",
       "</table>\n",
       "</div>"
      ],
      "text/plain": [
       "                                                name  \\\n",
       "0                           Planetwise Flannel Wipes   \n",
       "1                              Planetwise Wipe Pouch   \n",
       "2                Annas Dream Full Quilt with 2 Shams   \n",
       "3  Stop Pacifier Sucking without tears with Thumb...   \n",
       "4  Stop Pacifier Sucking without tears with Thumb...   \n",
       "\n",
       "                                              review  rating  \n",
       "0  These flannel wipes are OK, but in my opinion ...       3  \n",
       "1  it came early and was not disappointed. i love...       5  \n",
       "2  Very soft and comfortable and warmer than it l...       5  \n",
       "3  This is a product well worth the purchase.  I ...       5  \n",
       "4  All of my kids have cried non-stop when I trie...       5  "
      ]
     },
     "execution_count": 1,
     "metadata": {},
     "output_type": "execute_result"
    }
   ],
   "source": [
    "%matplotlib notebook\n",
    "import numpy as np\n",
    "import matplotlib.pyplot as plt\n",
    "import pandas as pd\n",
    "\n",
    "amazon_df = pd.read_csv('amazon_baby.csv')\n",
    "amazon_df.head()"
   ]
  },
  {
   "cell_type": "markdown",
   "metadata": {},
   "source": [
    "# Question 1\n",
    "Out of the 11 words in selected_words, which one is most used in the reviews in the dataset?"
   ]
  },
  {
   "cell_type": "code",
   "execution_count": 2,
   "metadata": {
    "collapsed": true
   },
   "outputs": [],
   "source": [
    "selected_words = ['awesome', 'great', 'fantastic', 'amazing', 'love', 'horrible', 'bad', 'terrible', 'awful', 'wow', 'hate']"
   ]
  },
  {
   "cell_type": "code",
   "execution_count": 3,
   "metadata": {},
   "outputs": [
    {
     "data": {
      "text/plain": [
       "{'amazing': 2533.0,\n",
       " 'awesome': 3380.0,\n",
       " 'awful': 694.0,\n",
       " 'bad': 5099.0,\n",
       " 'fantastic': 1611.0,\n",
       " 'great': 51091.0,\n",
       " 'hate': 3795.0,\n",
       " 'horrible': 1081.0,\n",
       " 'love': 65236.0,\n",
       " 'terrible': 1126.0,\n",
       " 'wow': 135.0}"
      ]
     },
     "execution_count": 3,
     "metadata": {},
     "output_type": "execute_result"
    }
   ],
   "source": [
    "review_df = amazon_df[['review', 'rating']]\n",
    "for word in selected_words:\n",
    "    review_df[word] = review_df['review'].str.count(word)\n",
    "\n",
    "word_dict = {}\n",
    "for word in selected_words:\n",
    "    word_dict[word] = review_df[word].sum()\n",
    "\n",
    "word_dict"
   ]
  },
  {
   "cell_type": "code",
   "execution_count": 4,
   "metadata": {
    "scrolled": true
   },
   "outputs": [
    {
     "data": {
      "text/plain": [
       "('love', 65236.0)"
      ]
     },
     "execution_count": 4,
     "metadata": {},
     "output_type": "execute_result"
    }
   ],
   "source": [
    "import operator\n",
    "\n",
    "word_dict_sorted = sorted(word_dict.items(),key=operator.itemgetter(1),reverse=True)\n",
    "word_dict_sorted[0]"
   ]
  },
  {
   "cell_type": "markdown",
   "metadata": {},
   "source": [
    "# Question 2\n",
    "\n",
    "Out of the 11 words in selected_words, which one is least used in the reviews in the dataset? "
   ]
  },
  {
   "cell_type": "code",
   "execution_count": 5,
   "metadata": {},
   "outputs": [
    {
     "data": {
      "text/plain": [
       "('wow', 135.0)"
      ]
     },
     "execution_count": 5,
     "metadata": {},
     "output_type": "execute_result"
    }
   ],
   "source": [
    "word_dict_sorted[-1]"
   ]
  },
  {
   "cell_type": "markdown",
   "metadata": {},
   "source": [
    "# Question 3\n",
    "Out of the 11 words in selected_words, which one got the most positive weight in the selected_words_model?\n",
    "(Tip: when printing the list of coefficients, make sure to use print_rows(rows=12) to print ALL coefficients.)"
   ]
  },
  {
   "cell_type": "code",
   "execution_count": 6,
   "metadata": {},
   "outputs": [
    {
     "data": {
      "text/plain": [
       "30    Beautiful little book.  A great little short s...\n",
       "31    This book is so worth the money. It says 9+ mo...\n",
       "32    we just got this book for our one-year-old and...\n",
       "33    The book is colorful and is perfect for 6month...\n",
       "34    The book is cute, and we are huge fans of Lama...\n",
       "35    What a great book for babies!  I\\'d been looki...\n",
       "36    My son loved this book as an infant.  It was p...\n",
       "37    Our baby loves this book & has loved it for a ...\n",
       "38                                                     \n",
       "39    My son likes brushing elmo\\'s teeth. Almost to...\n",
       "40    This was a birthday present for my 2 year old ...\n",
       "41    This bear is absolutely adorable and I would g...\n",
       "42    My baby absolutely loves Elmo and so this book...\n",
       "43    I bought two for recent baby showers!  The boo...\n",
       "44    We wanted to get another book like the Big Bir...\n",
       "45    This is a cute little peek-a-boo story book.  ...\n",
       "46    My 3 month old son loves this book. We read it...\n",
       "47    Very cute interactive book! My son loves this ...\n",
       "48    Bought for granddauchildren and they play with...\n",
       "49    I have teething babies and these were great fo...\n",
       "Name: review, dtype: object"
      ]
     },
     "execution_count": 6,
     "metadata": {},
     "output_type": "execute_result"
    }
   ],
   "source": [
    "def cleanNaN(value):\n",
    "    if pd.isnull(value):\n",
    "        return \"\"\n",
    "    else:\n",
    "        return value\n",
    "    \n",
    "review_df['review'] = review_df['review'].apply(cleanNaN)\n",
    "review_df['review'][30:50]"
   ]
  },
  {
   "cell_type": "code",
   "execution_count": 9,
   "metadata": {},
   "outputs": [
    {
     "data": {
      "text/html": [
       "<div>\n",
       "<style>\n",
       "    .dataframe thead tr:only-child th {\n",
       "        text-align: right;\n",
       "    }\n",
       "\n",
       "    .dataframe thead th {\n",
       "        text-align: left;\n",
       "    }\n",
       "\n",
       "    .dataframe tbody tr th {\n",
       "        vertical-align: top;\n",
       "    }\n",
       "</style>\n",
       "<table border=\"1\" class=\"dataframe\">\n",
       "  <thead>\n",
       "    <tr style=\"text-align: right;\">\n",
       "      <th></th>\n",
       "      <th>review</th>\n",
       "      <th>rating</th>\n",
       "      <th>awesome</th>\n",
       "      <th>great</th>\n",
       "      <th>fantastic</th>\n",
       "      <th>amazing</th>\n",
       "      <th>love</th>\n",
       "      <th>horrible</th>\n",
       "      <th>bad</th>\n",
       "      <th>terrible</th>\n",
       "      <th>awful</th>\n",
       "      <th>wow</th>\n",
       "      <th>hate</th>\n",
       "      <th>sentiment</th>\n",
       "    </tr>\n",
       "  </thead>\n",
       "  <tbody>\n",
       "    <tr>\n",
       "      <th>1</th>\n",
       "      <td>it came early and was not disappointed. i love...</td>\n",
       "      <td>5</td>\n",
       "      <td>0.0</td>\n",
       "      <td>0.0</td>\n",
       "      <td>0.0</td>\n",
       "      <td>0.0</td>\n",
       "      <td>1.0</td>\n",
       "      <td>0.0</td>\n",
       "      <td>0.0</td>\n",
       "      <td>0.0</td>\n",
       "      <td>0.0</td>\n",
       "      <td>0.0</td>\n",
       "      <td>0.0</td>\n",
       "      <td>True</td>\n",
       "    </tr>\n",
       "    <tr>\n",
       "      <th>2</th>\n",
       "      <td>Very soft and comfortable and warmer than it l...</td>\n",
       "      <td>5</td>\n",
       "      <td>0.0</td>\n",
       "      <td>0.0</td>\n",
       "      <td>0.0</td>\n",
       "      <td>0.0</td>\n",
       "      <td>0.0</td>\n",
       "      <td>0.0</td>\n",
       "      <td>0.0</td>\n",
       "      <td>0.0</td>\n",
       "      <td>0.0</td>\n",
       "      <td>0.0</td>\n",
       "      <td>0.0</td>\n",
       "      <td>True</td>\n",
       "    </tr>\n",
       "    <tr>\n",
       "      <th>3</th>\n",
       "      <td>This is a product well worth the purchase.  I ...</td>\n",
       "      <td>5</td>\n",
       "      <td>0.0</td>\n",
       "      <td>0.0</td>\n",
       "      <td>0.0</td>\n",
       "      <td>0.0</td>\n",
       "      <td>3.0</td>\n",
       "      <td>0.0</td>\n",
       "      <td>0.0</td>\n",
       "      <td>0.0</td>\n",
       "      <td>0.0</td>\n",
       "      <td>0.0</td>\n",
       "      <td>0.0</td>\n",
       "      <td>True</td>\n",
       "    </tr>\n",
       "    <tr>\n",
       "      <th>4</th>\n",
       "      <td>All of my kids have cried non-stop when I trie...</td>\n",
       "      <td>5</td>\n",
       "      <td>0.0</td>\n",
       "      <td>1.0</td>\n",
       "      <td>0.0</td>\n",
       "      <td>0.0</td>\n",
       "      <td>0.0</td>\n",
       "      <td>0.0</td>\n",
       "      <td>0.0</td>\n",
       "      <td>0.0</td>\n",
       "      <td>0.0</td>\n",
       "      <td>0.0</td>\n",
       "      <td>0.0</td>\n",
       "      <td>True</td>\n",
       "    </tr>\n",
       "    <tr>\n",
       "      <th>5</th>\n",
       "      <td>When the Binky Fairy came to our house, we did...</td>\n",
       "      <td>5</td>\n",
       "      <td>0.0</td>\n",
       "      <td>1.0</td>\n",
       "      <td>0.0</td>\n",
       "      <td>0.0</td>\n",
       "      <td>0.0</td>\n",
       "      <td>0.0</td>\n",
       "      <td>0.0</td>\n",
       "      <td>0.0</td>\n",
       "      <td>0.0</td>\n",
       "      <td>0.0</td>\n",
       "      <td>0.0</td>\n",
       "      <td>True</td>\n",
       "    </tr>\n",
       "  </tbody>\n",
       "</table>\n",
       "</div>"
      ],
      "text/plain": [
       "                                              review  rating  awesome  great  \\\n",
       "1  it came early and was not disappointed. i love...       5      0.0    0.0   \n",
       "2  Very soft and comfortable and warmer than it l...       5      0.0    0.0   \n",
       "3  This is a product well worth the purchase.  I ...       5      0.0    0.0   \n",
       "4  All of my kids have cried non-stop when I trie...       5      0.0    1.0   \n",
       "5  When the Binky Fairy came to our house, we did...       5      0.0    1.0   \n",
       "\n",
       "   fantastic  amazing  love  horrible  bad  terrible  awful  wow  hate  \\\n",
       "1        0.0      0.0   1.0       0.0  0.0       0.0    0.0  0.0   0.0   \n",
       "2        0.0      0.0   0.0       0.0  0.0       0.0    0.0  0.0   0.0   \n",
       "3        0.0      0.0   3.0       0.0  0.0       0.0    0.0  0.0   0.0   \n",
       "4        0.0      0.0   0.0       0.0  0.0       0.0    0.0  0.0   0.0   \n",
       "5        0.0      0.0   0.0       0.0  0.0       0.0    0.0  0.0   0.0   \n",
       "\n",
       "   sentiment  \n",
       "1       True  \n",
       "2       True  \n",
       "3       True  \n",
       "4       True  \n",
       "5       True  "
      ]
     },
     "execution_count": 9,
     "metadata": {},
     "output_type": "execute_result"
    }
   ],
   "source": [
    "#ignore all 3* reviews\n",
    "review_df = review_df[review_df['rating'] != 3]\n",
    "\n",
    "review_df['sentiment'] = review_df['rating'] >= 4\n",
    "review_df.head()"
   ]
  },
  {
   "cell_type": "code",
   "execution_count": 10,
   "metadata": {},
   "outputs": [
    {
     "name": "stdout",
     "output_type": "stream",
     "text": [
      "Accuracy score: 0.849000029984\n",
      "AUC: 0.691302082365\n"
     ]
    }
   ],
   "source": [
    "from sklearn.linear_model import LogisticRegression\n",
    "from sklearn.model_selection import train_test_split\n",
    "\n",
    "from sklearn.feature_extraction.text import CountVectorizer\n",
    "\n",
    "X_train, X_test, y_train, y_test = train_test_split(review_df['review'], review_df['sentiment'], test_size=0.2, random_state=42)\n",
    "\n",
    "vect = CountVectorizer(vocabulary=selected_words)\n",
    "\n",
    "vect.fit(X_train)\n",
    "X_train_dtm = vect.transform(X_train)\n",
    "\n",
    "log_reg_model = LogisticRegression()\n",
    "log_reg_model.fit(X_train_dtm, y_train)\n",
    "\n",
    "\n",
    "X_test_dtm = vect.transform(X_test)\n",
    "\n",
    "# class predictions and predicted probabilities\n",
    "y_pred_class = log_reg_model.predict(X_test_dtm)\n",
    "y_pred_prob = log_reg_model.predict_proba(X_test_dtm)[:, 1]\n",
    "\n",
    "# calculate accuracy and AUC\n",
    "from sklearn import metrics\n",
    "print(\"Accuracy score:\",metrics.accuracy_score(y_test, y_pred_class))\n",
    "print(\"AUC:\",metrics.roc_auc_score(y_test, y_pred_prob))"
   ]
  },
  {
   "cell_type": "code",
   "execution_count": 13,
   "metadata": {},
   "outputs": [
    {
     "data": {
      "text/plain": [
       "array([[  4.46737080e-01,  -5.39072607e-01,  -2.06144827e-02, ...,\n",
       "          2.12102555e-06,  -1.47136002e-02,   1.58560621e-03],\n",
       "       [  6.48066977e-02,   3.82531089e-01,  -1.77927006e-02, ...,\n",
       "         -1.12316284e-05,  -3.53566768e-02,  -4.49031149e-01],\n",
       "       [ -9.42010726e-02,  -6.25262789e-01,  -5.60486632e-02, ...,\n",
       "         -2.13497659e-04,  -1.58853467e-02,  -1.13166445e-01],\n",
       "       [ -2.09244157e-02,   5.37525144e-01,  -2.11252736e-01, ...,\n",
       "          3.65222961e-01,  -1.11001532e-01,  -2.14355021e-03],\n",
       "       [ -3.51197458e-01,  -3.94838183e-01,   1.09626717e-01, ...,\n",
       "         -7.26879320e-01,   1.56471128e-01,  -2.83748653e-03]])"
      ]
     },
     "execution_count": 13,
     "metadata": {},
     "output_type": "execute_result"
    }
   ],
   "source": [
    "selected_words_model.coef_"
   ]
  },
  {
   "cell_type": "code",
   "execution_count": 9,
   "metadata": {},
   "outputs": [
    {
     "data": {
      "text/plain": [
       "array([-2.07997071, -2.46404718, -2.09170841, -1.48075333,  0.09154976])"
      ]
     },
     "execution_count": 9,
     "metadata": {},
     "output_type": "execute_result"
    }
   ],
   "source": [
    "selected_words_model.intercept_"
   ]
  },
  {
   "cell_type": "markdown",
   "metadata": {},
   "source": [
    "# Question 4\n",
    "Out of the 11 words in selected_words, which one got the most negative weight in the selected_words_model?\n",
    "(Tip: when printing the list of coefficients, make sure to use print_rows(rows=12) to print ALL coefficients.)"
   ]
  },
  {
   "cell_type": "code",
   "execution_count": null,
   "metadata": {
    "collapsed": true
   },
   "outputs": [],
   "source": []
  },
  {
   "cell_type": "markdown",
   "metadata": {},
   "source": [
    "# Question 5\n",
    "Which of the following ranges contains the accuracy of the selected_words_model on the test_data?"
   ]
  },
  {
   "cell_type": "code",
   "execution_count": 11,
   "metadata": {},
   "outputs": [
    {
     "data": {
      "text/plain": [
       "0.58313536603970972"
      ]
     },
     "execution_count": 11,
     "metadata": {},
     "output_type": "execute_result"
    }
   ],
   "source": [
    "from sklearn.metrics import accuracy_score\n",
    "\n",
    "y_pred = selected_words_model.predict(X_test)\n",
    "\n",
    "accuracy_score(y_test, y_pred)"
   ]
  },
  {
   "cell_type": "markdown",
   "metadata": {},
   "source": [
    "# Question 6\n",
    "Which of the following ranges contains the accuracy of the sentiment_model in the IPython Notebook from lecture on the test_data?"
   ]
  },
  {
   "cell_type": "code",
   "execution_count": null,
   "metadata": {
    "collapsed": true
   },
   "outputs": [],
   "source": []
  },
  {
   "cell_type": "markdown",
   "metadata": {},
   "source": [
    "# Question 7\n",
    "Which of the following ranges contains the accuracy of the majority class classifier, which simply predicts the majority class on the test_data?"
   ]
  },
  {
   "cell_type": "code",
   "execution_count": null,
   "metadata": {
    "collapsed": true
   },
   "outputs": [],
   "source": []
  }
 ],
 "metadata": {
  "kernelspec": {
   "display_name": "Python [default]",
   "language": "python",
   "name": "python3"
  },
  "language_info": {
   "codemirror_mode": {
    "name": "ipython",
    "version": 3
   },
   "file_extension": ".py",
   "mimetype": "text/x-python",
   "name": "python",
   "nbconvert_exporter": "python",
   "pygments_lexer": "ipython3",
   "version": "3.6.2"
  }
 },
 "nbformat": 4,
 "nbformat_minor": 2
}
