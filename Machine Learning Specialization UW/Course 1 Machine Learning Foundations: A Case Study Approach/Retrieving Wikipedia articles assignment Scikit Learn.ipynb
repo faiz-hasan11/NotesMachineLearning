{
 "cells": [
  {
   "cell_type": "code",
   "execution_count": 1,
   "metadata": {},
   "outputs": [
    {
     "data": {
      "text/html": [
       "<div>\n",
       "<style>\n",
       "    .dataframe thead tr:only-child th {\n",
       "        text-align: right;\n",
       "    }\n",
       "\n",
       "    .dataframe thead th {\n",
       "        text-align: left;\n",
       "    }\n",
       "\n",
       "    .dataframe tbody tr th {\n",
       "        vertical-align: top;\n",
       "    }\n",
       "</style>\n",
       "<table border=\"1\" class=\"dataframe\">\n",
       "  <thead>\n",
       "    <tr style=\"text-align: right;\">\n",
       "      <th></th>\n",
       "      <th>URI</th>\n",
       "      <th>name</th>\n",
       "      <th>text</th>\n",
       "    </tr>\n",
       "  </thead>\n",
       "  <tbody>\n",
       "    <tr>\n",
       "      <th>0</th>\n",
       "      <td>&lt;http://dbpedia.org/resource/Digby_Morrell&gt;</td>\n",
       "      <td>Digby Morrell</td>\n",
       "      <td>digby morrell born 10 october 1979 is a former...</td>\n",
       "    </tr>\n",
       "    <tr>\n",
       "      <th>1</th>\n",
       "      <td>&lt;http://dbpedia.org/resource/Alfred_J._Lewy&gt;</td>\n",
       "      <td>Alfred J. Lewy</td>\n",
       "      <td>alfred j lewy aka sandy lewy graduated from un...</td>\n",
       "    </tr>\n",
       "    <tr>\n",
       "      <th>2</th>\n",
       "      <td>&lt;http://dbpedia.org/resource/Harpdog_Brown&gt;</td>\n",
       "      <td>Harpdog Brown</td>\n",
       "      <td>harpdog brown is a singer and harmonica player...</td>\n",
       "    </tr>\n",
       "    <tr>\n",
       "      <th>3</th>\n",
       "      <td>&lt;http://dbpedia.org/resource/Franz_Rottensteiner&gt;</td>\n",
       "      <td>Franz Rottensteiner</td>\n",
       "      <td>franz rottensteiner born in waidmannsfeld lowe...</td>\n",
       "    </tr>\n",
       "    <tr>\n",
       "      <th>4</th>\n",
       "      <td>&lt;http://dbpedia.org/resource/G-Enka&gt;</td>\n",
       "      <td>G-Enka</td>\n",
       "      <td>henry krvits born 30 december 1974 in tallinn ...</td>\n",
       "    </tr>\n",
       "  </tbody>\n",
       "</table>\n",
       "</div>"
      ],
      "text/plain": [
       "                                                 URI                 name  \\\n",
       "0        <http://dbpedia.org/resource/Digby_Morrell>        Digby Morrell   \n",
       "1       <http://dbpedia.org/resource/Alfred_J._Lewy>       Alfred J. Lewy   \n",
       "2        <http://dbpedia.org/resource/Harpdog_Brown>        Harpdog Brown   \n",
       "3  <http://dbpedia.org/resource/Franz_Rottensteiner>  Franz Rottensteiner   \n",
       "4               <http://dbpedia.org/resource/G-Enka>               G-Enka   \n",
       "\n",
       "                                                text  \n",
       "0  digby morrell born 10 october 1979 is a former...  \n",
       "1  alfred j lewy aka sandy lewy graduated from un...  \n",
       "2  harpdog brown is a singer and harmonica player...  \n",
       "3  franz rottensteiner born in waidmannsfeld lowe...  \n",
       "4  henry krvits born 30 december 1974 in tallinn ...  "
      ]
     },
     "execution_count": 1,
     "metadata": {},
     "output_type": "execute_result"
    }
   ],
   "source": [
    "%matplotlib notebook\n",
    "import numpy as np\n",
    "import matplotlib.pyplot as plt\n",
    "import pandas as pd\n",
    "\n",
    "people = pd.read_csv('people_wiki.csv')\n",
    "people.head()"
   ]
  },
  {
   "cell_type": "markdown",
   "metadata": {},
   "source": [
    "# Question 1\n",
    "Top word count words for Elton John"
   ]
  },
  {
   "cell_type": "code",
   "execution_count": 2,
   "metadata": {},
   "outputs": [
    {
     "data": {
      "text/plain": [
       "'sir elton hercules john cbe born reginald kenneth dwight 25 march 1947 is an english singer songwriter composer pianist record producer and occasional actor he has worked with lyricist bernie taupin as his songwriter partner since 1967 they have collaborated on more than 30 albums to datein his fivedecade career elton john has sold more than 300 million records making him one of the bestselling music artists in the world he has more than fifty top 40 hits including seven consecutive no 1 us albums 58 billboard top 40 singles 27 top 10 four no 2 and nine no 1 for 31 consecutive years 19702000 he had at least one song in the billboard hot 100 his single something about the way you look tonightcandle in the wind 1997 sold over 33 million copies worldwide and is the bestselling single of all time he has received six grammy awards five brit awards winning two awards for outstanding contribution to music and the first brits icon in 2013 for his lasting impact on british culture an academy award a golden globe award a tony award a disney legend award and the kennedy center honors in 2004 in 2004 rolling stone ranked him number 49 on its list of 100 influential musicians of the rock and roll era in 2008 billboard ranked him the most successful male solo artist on the billboard hot 100 top alltime artists third overallelton john was inducted into the rock and roll hall of fame in 1994 is an inductee into the songwriters hall of fame and is a fellow of the british academy of songwriters composers and authors having been named a commander of the order of the british empire in 1996 john received a knighthood from elizabeth ii for services to music and charitable services in 1998 john has performed at a number of royal events such as the funeral of princess diana at westminster abbey in 1997 the party at the palace in 2002 and the queens diamond jubilee concert outside buckingham palace in 2012he has been heavily involved in the fight against aids since the late 1980s in 1992 he established the elton john aids foundation and a year later began hosting the annual academy award party which has since become one of the highestprofile oscar parties in the hollywood film industry since its inception the foundation has raised over 200 million john who announced he was bisexual in 1976 and has been openly gay since 1988 entered into a civil partnership with david furnish on 21 december 2005 and after gay marriage became legal in england wed furnish on 21 december 2014 he continues to be a champion for lgbt social movements worldwide and samesex marriage'"
      ]
     },
     "execution_count": 2,
     "metadata": {},
     "output_type": "execute_result"
    }
   ],
   "source": [
    "john = people[people['name'] == 'Elton John']\n",
    "john['text'].values[0]"
   ]
  },
  {
   "cell_type": "code",
   "execution_count": 8,
   "metadata": {
    "collapsed": true
   },
   "outputs": [],
   "source": [
    "from sklearn.feature_extraction.text import CountVectorizer\n",
    "vect_john = CountVectorizer()\n",
    "features_john = vect_john.fit_transform(john['text'])\n",
    "vocabulary_john = vect_john.get_feature_names()"
   ]
  },
  {
   "cell_type": "code",
   "execution_count": 10,
   "metadata": {},
   "outputs": [
    {
     "data": {
      "text/html": [
       "<div>\n",
       "<style>\n",
       "    .dataframe thead tr:only-child th {\n",
       "        text-align: right;\n",
       "    }\n",
       "\n",
       "    .dataframe thead th {\n",
       "        text-align: left;\n",
       "    }\n",
       "\n",
       "    .dataframe tbody tr th {\n",
       "        vertical-align: top;\n",
       "    }\n",
       "</style>\n",
       "<table border=\"1\" class=\"dataframe\">\n",
       "  <thead>\n",
       "    <tr style=\"text-align: right;\">\n",
       "      <th></th>\n",
       "      <th>word</th>\n",
       "      <th>count</th>\n",
       "    </tr>\n",
       "  </thead>\n",
       "  <tbody>\n",
       "    <tr>\n",
       "      <th>227</th>\n",
       "      <td>the</td>\n",
       "      <td>27</td>\n",
       "    </tr>\n",
       "    <tr>\n",
       "      <th>135</th>\n",
       "      <td>in</td>\n",
       "      <td>18</td>\n",
       "    </tr>\n",
       "    <tr>\n",
       "      <th>42</th>\n",
       "      <td>and</td>\n",
       "      <td>15</td>\n",
       "    </tr>\n",
       "    <tr>\n",
       "      <th>176</th>\n",
       "      <td>of</td>\n",
       "      <td>13</td>\n",
       "    </tr>\n",
       "    <tr>\n",
       "      <th>118</th>\n",
       "      <td>has</td>\n",
       "      <td>9</td>\n",
       "    </tr>\n",
       "    <tr>\n",
       "      <th>121</th>\n",
       "      <td>he</td>\n",
       "      <td>7</td>\n",
       "    </tr>\n",
       "    <tr>\n",
       "      <th>146</th>\n",
       "      <td>john</td>\n",
       "      <td>7</td>\n",
       "    </tr>\n",
       "    <tr>\n",
       "      <th>177</th>\n",
       "      <td>on</td>\n",
       "      <td>6</td>\n",
       "    </tr>\n",
       "    <tr>\n",
       "      <th>209</th>\n",
       "      <td>since</td>\n",
       "      <td>5</td>\n",
       "    </tr>\n",
       "    <tr>\n",
       "      <th>106</th>\n",
       "      <td>for</td>\n",
       "      <td>5</td>\n",
       "    </tr>\n",
       "  </tbody>\n",
       "</table>\n",
       "</div>"
      ],
      "text/plain": [
       "      word  count\n",
       "227    the     27\n",
       "135     in     18\n",
       "42     and     15\n",
       "176     of     13\n",
       "118    has      9\n",
       "121     he      7\n",
       "146   john      7\n",
       "177     on      6\n",
       "209  since      5\n",
       "106    for      5"
      ]
     },
     "execution_count": 10,
     "metadata": {},
     "output_type": "execute_result"
    }
   ],
   "source": [
    "john_word_frequency = [sum(x) for x in zip(*features_john.toarray())]\n",
    "john_word_count_dict = {word:freq for word, freq in zip(vocabulary_john, john_word_frequency)}\n",
    "\n",
    "john_word_count = pd.DataFrame(list(john_word_count_dict.items()), columns = ['word','count']).sort_values('count',ascending=False)\n",
    "john_word_count.head(10)"
   ]
  },
  {
   "cell_type": "markdown",
   "metadata": {},
   "source": [
    "# Question 2\n",
    "Top TF-IDF words for Elton John"
   ]
  },
  {
   "cell_type": "code",
   "execution_count": 11,
   "metadata": {},
   "outputs": [
    {
     "data": {
      "text/html": [
       "<div>\n",
       "<style>\n",
       "    .dataframe thead tr:only-child th {\n",
       "        text-align: right;\n",
       "    }\n",
       "\n",
       "    .dataframe thead th {\n",
       "        text-align: left;\n",
       "    }\n",
       "\n",
       "    .dataframe tbody tr th {\n",
       "        vertical-align: top;\n",
       "    }\n",
       "</style>\n",
       "<table border=\"1\" class=\"dataframe\">\n",
       "  <thead>\n",
       "    <tr style=\"text-align: right;\">\n",
       "      <th></th>\n",
       "      <th>URI</th>\n",
       "      <th>name</th>\n",
       "      <th>text</th>\n",
       "    </tr>\n",
       "  </thead>\n",
       "  <tbody>\n",
       "    <tr>\n",
       "      <th>19923</th>\n",
       "      <td>&lt;http://dbpedia.org/resource/Elton_John&gt;</td>\n",
       "      <td>Elton John</td>\n",
       "      <td>sir elton hercules john cbe born reginald kenn...</td>\n",
       "    </tr>\n",
       "  </tbody>\n",
       "</table>\n",
       "</div>"
      ],
      "text/plain": [
       "                                            URI        name  \\\n",
       "19923  <http://dbpedia.org/resource/Elton_John>  Elton John   \n",
       "\n",
       "                                                    text  \n",
       "19923  sir elton hercules john cbe born reginald kenn...  "
      ]
     },
     "execution_count": 11,
     "metadata": {},
     "output_type": "execute_result"
    }
   ],
   "source": [
    "john"
   ]
  },
  {
   "cell_type": "code",
   "execution_count": 12,
   "metadata": {
    "collapsed": true
   },
   "outputs": [],
   "source": [
    "from sklearn.feature_extraction.text import TfidfVectorizer\n",
    "vect_tfidf = TfidfVectorizer(stop_words = 'english')\n",
    "dtm = vect_tfidf.fit_transform(people['text'])\n",
    "vocabulary_tfidf = vect_tfidf.get_feature_names()\n"
   ]
  },
  {
   "cell_type": "code",
   "execution_count": 13,
   "metadata": {
    "collapsed": true
   },
   "outputs": [],
   "source": [
    "word_scores_john = {}\n",
    "for word in vocabulary_john:\n",
    "    if word in vocabulary_tfidf:\n",
    "        word_scores_john[word] = dtm[19923, vocabulary_tfidf.index(word)]"
   ]
  },
  {
   "cell_type": "code",
   "execution_count": 14,
   "metadata": {},
   "outputs": [
    {
     "data": {
      "text/html": [
       "<div>\n",
       "<style>\n",
       "    .dataframe thead tr:only-child th {\n",
       "        text-align: right;\n",
       "    }\n",
       "\n",
       "    .dataframe thead th {\n",
       "        text-align: left;\n",
       "    }\n",
       "\n",
       "    .dataframe tbody tr th {\n",
       "        vertical-align: top;\n",
       "    }\n",
       "</style>\n",
       "<table border=\"1\" class=\"dataframe\">\n",
       "  <thead>\n",
       "    <tr style=\"text-align: right;\">\n",
       "      <th></th>\n",
       "      <th>word</th>\n",
       "      <th>tfidf</th>\n",
       "    </tr>\n",
       "  </thead>\n",
       "  <tbody>\n",
       "    <tr>\n",
       "      <th>47</th>\n",
       "      <td>billboard</td>\n",
       "      <td>0.220815</td>\n",
       "    </tr>\n",
       "    <tr>\n",
       "      <th>118</th>\n",
       "      <td>john</td>\n",
       "      <td>0.217082</td>\n",
       "    </tr>\n",
       "    <tr>\n",
       "      <th>78</th>\n",
       "      <td>elton</td>\n",
       "      <td>0.212174</td>\n",
       "    </tr>\n",
       "    <tr>\n",
       "      <th>93</th>\n",
       "      <td>furnish</td>\n",
       "      <td>0.208194</td>\n",
       "    </tr>\n",
       "    <tr>\n",
       "      <th>181</th>\n",
       "      <td>songwriters</td>\n",
       "      <td>0.137278</td>\n",
       "    </tr>\n",
       "    <tr>\n",
       "      <th>42</th>\n",
       "      <td>award</td>\n",
       "      <td>0.136446</td>\n",
       "    </tr>\n",
       "    <tr>\n",
       "      <th>34</th>\n",
       "      <td>aids</td>\n",
       "      <td>0.127077</td>\n",
       "    </tr>\n",
       "    <tr>\n",
       "      <th>136</th>\n",
       "      <td>million</td>\n",
       "      <td>0.124955</td>\n",
       "    </tr>\n",
       "    <tr>\n",
       "      <th>1</th>\n",
       "      <td>100</td>\n",
       "      <td>0.123607</td>\n",
       "    </tr>\n",
       "    <tr>\n",
       "      <th>149</th>\n",
       "      <td>palace</td>\n",
       "      <td>0.122427</td>\n",
       "    </tr>\n",
       "    <tr>\n",
       "      <th>148</th>\n",
       "      <td>overallelton</td>\n",
       "      <td>0.117085</td>\n",
       "    </tr>\n",
       "    <tr>\n",
       "      <th>186</th>\n",
       "      <td>tonightcandle</td>\n",
       "      <td>0.117085</td>\n",
       "    </tr>\n",
       "    <tr>\n",
       "      <th>46</th>\n",
       "      <td>bestselling</td>\n",
       "      <td>0.115970</td>\n",
       "    </tr>\n",
       "    <tr>\n",
       "      <th>166</th>\n",
       "      <td>roll</td>\n",
       "      <td>0.115695</td>\n",
       "    </tr>\n",
       "    <tr>\n",
       "      <th>90</th>\n",
       "      <td>fivedecade</td>\n",
       "      <td>0.112881</td>\n",
       "    </tr>\n",
       "  </tbody>\n",
       "</table>\n",
       "</div>"
      ],
      "text/plain": [
       "              word     tfidf\n",
       "47       billboard  0.220815\n",
       "118           john  0.217082\n",
       "78           elton  0.212174\n",
       "93         furnish  0.208194\n",
       "181    songwriters  0.137278\n",
       "42           award  0.136446\n",
       "34            aids  0.127077\n",
       "136        million  0.124955\n",
       "1              100  0.123607\n",
       "149         palace  0.122427\n",
       "148   overallelton  0.117085\n",
       "186  tonightcandle  0.117085\n",
       "46     bestselling  0.115970\n",
       "166           roll  0.115695\n",
       "90      fivedecade  0.112881"
      ]
     },
     "execution_count": 14,
     "metadata": {},
     "output_type": "execute_result"
    }
   ],
   "source": [
    "john_word_scores = pd.DataFrame(list(word_scores_john.items()), columns=['word', 'tfidf'])\n",
    "\n",
    "john_word_scores.sort_values('tfidf', ascending=False).head(15)"
   ]
  },
  {
   "cell_type": "markdown",
   "metadata": {},
   "source": [
    "# Question 3\n",
    "The cosine distance between 'Elton John's and 'Victoria Beckham's articles (represented with TF-IDF) falls within which range?"
   ]
  },
  {
   "cell_type": "code",
   "execution_count": 15,
   "metadata": {},
   "outputs": [
    {
     "data": {
      "text/plain": [
       "0.96592976924167284"
      ]
     },
     "execution_count": 15,
     "metadata": {},
     "output_type": "execute_result"
    }
   ],
   "source": [
    "beckham = people[people['name'] == 'Victoria Beckham']\n",
    "\n",
    "from sklearn.metrics.pairwise import pairwise_distances\n",
    "pairwise_distances(dtm[john.index], dtm[beckham.index], metric='cosine')[0][0]"
   ]
  },
  {
   "cell_type": "markdown",
   "metadata": {},
   "source": [
    "# Question 4\n",
    "The cosine distance between 'Elton John's and 'Paul McCartney's articles (represented with TF-IDF) falls within which range?"
   ]
  },
  {
   "cell_type": "code",
   "execution_count": 16,
   "metadata": {},
   "outputs": [
    {
     "data": {
      "text/plain": [
       "0.81008627039643599"
      ]
     },
     "execution_count": 16,
     "metadata": {},
     "output_type": "execute_result"
    }
   ],
   "source": [
    "mccartney = people[people['name'] == 'Paul McCartney']\n",
    "\n",
    "pairwise_distances(dtm[john.index], dtm[mccartney.index], metric='cosine')[0][0]"
   ]
  },
  {
   "cell_type": "markdown",
   "metadata": {},
   "source": [
    "# Question 5\n",
    "Who is closer to 'Elton John', 'Victoria Beckham' or 'Paul McCartney'?"
   ]
  },
  {
   "cell_type": "markdown",
   "metadata": {},
   "source": [
    "* Paul McCartney"
   ]
  },
  {
   "cell_type": "markdown",
   "metadata": {},
   "source": [
    "# Question 6\n",
    "Who is the nearest neighbor to 'Elton John' using raw word counts?"
   ]
  },
  {
   "cell_type": "code",
   "execution_count": 30,
   "metadata": {},
   "outputs": [
    {
     "data": {
      "text/plain": [
       "NearestNeighbors(algorithm='auto', leaf_size=30, metric='minkowski',\n",
       "         metric_params=None, n_jobs=1, n_neighbors=10, p=2, radius=1.0)"
      ]
     },
     "execution_count": 30,
     "metadata": {},
     "output_type": "execute_result"
    }
   ],
   "source": [
    "from sklearn.neighbors import NearestNeighbors\n",
    "neighbors_raw = NearestNeighbors(n_neighbors=10)\n",
    "\n",
    "from sklearn.feature_extraction.text import CountVectorizer\n",
    "vect = CountVectorizer(stop_words = 'english')\n",
    "features = vect.fit_transform(people['text'])\n",
    "\n",
    "neighbors_raw.fit(features)"
   ]
  },
  {
   "cell_type": "code",
   "execution_count": 31,
   "metadata": {},
   "outputs": [
    {
     "data": {
      "text/plain": [
       "[('Elton John', 0.0),\n",
       " ('Barry Gibb', 20.420577856662138),\n",
       " ('Olivia Newton-John', 20.808652046684813),\n",
       " ('Scott Cutler', 21.377558326431949),\n",
       " ('Sting (musician)', 21.42428528562855),\n",
       " ('George Michael', 21.42428528562855),\n",
       " ('Roger Daltrey', 21.494185260204677),\n",
       " ('Jimmy Webb', 21.61018278497431),\n",
       " ('Anne Preven', 21.61018278497431),\n",
       " ('Scott Mathews', 21.679483388678801)]"
      ]
     },
     "execution_count": 31,
     "metadata": {},
     "output_type": "execute_result"
    }
   ],
   "source": [
    "import operator\n",
    "\n",
    "distances_raw_john, indices_raw_john = neighbors_raw.kneighbors(features[john.index], return_distance=True)\n",
    "\n",
    "john_closest_raw = {peop:dist for peop, dist in zip(people.iloc[indices_raw_john[0]]['name'], distances_raw_john[0])}\n",
    "\n",
    "sorted(john_closest_raw.items(),key=operator.itemgetter(1),reverse=False)"
   ]
  },
  {
   "cell_type": "markdown",
   "metadata": {},
   "source": [
    "# Question 7\n",
    "Who is the nearest neighbor to 'Elton John' using TF-IDF?"
   ]
  },
  {
   "cell_type": "code",
   "execution_count": 18,
   "metadata": {},
   "outputs": [
    {
     "data": {
      "text/plain": [
       "NearestNeighbors(algorithm='auto', leaf_size=30, metric='minkowski',\n",
       "         metric_params=None, n_jobs=1, n_neighbors=10, p=2, radius=1.0)"
      ]
     },
     "execution_count": 18,
     "metadata": {},
     "output_type": "execute_result"
    }
   ],
   "source": [
    "from sklearn.neighbors import NearestNeighbors\n",
    "neighbors_tfidf = NearestNeighbors(n_neighbors=10)\n",
    "\n",
    "neighbors_tfidf.fit(dtm)"
   ]
  },
  {
   "cell_type": "code",
   "execution_count": 20,
   "metadata": {},
   "outputs": [
    {
     "data": {
      "text/plain": [
       "[('Elton John', 0.0),\n",
       " ('Rod Stewart', 1.1867420727453364),\n",
       " ('Sting (musician)', 1.1965095841300906),\n",
       " ('George Michael', 1.2038876011656052),\n",
       " ('Phil Collins', 1.2040186326374407),\n",
       " ('Kelly Clarkson', 1.2183370781896707),\n",
       " ('Usher (entertainer)', 1.2215036579599907),\n",
       " ('Adele', 1.2238839311499266),\n",
       " ('Rihanna', 1.2296774398874877),\n",
       " ('Bryan Adams', 1.2324149213938365)]"
      ]
     },
     "execution_count": 20,
     "metadata": {},
     "output_type": "execute_result"
    }
   ],
   "source": [
    "import operator\n",
    "\n",
    "distances_john, indices_john = neighbors_tfidf.kneighbors(dtm[john.index], return_distance=True)\n",
    "\n",
    "john_closest = {peop:dist for peop, dist in zip(people.iloc[indices_john[0]]['name'], distances_john[0])}\n",
    "\n",
    "sorted(john_closest.items(),key=operator.itemgetter(1),reverse=False)"
   ]
  },
  {
   "cell_type": "markdown",
   "metadata": {},
   "source": [
    "# Question 8\n",
    "Who is the nearest neighbor to 'Victoria Beckham' using raw word counts?"
   ]
  },
  {
   "cell_type": "code",
   "execution_count": 32,
   "metadata": {},
   "outputs": [
    {
     "data": {
      "text/plain": [
       "[('Victoria Beckham', 0.0),\n",
       " ('Silvia Tcherassi', 19.235384061671343),\n",
       " ('Lela Rose', 19.416487838947599),\n",
       " ('Louis Molloy', 19.544820285692065),\n",
       " ('Kate Moss', 19.595917942265423),\n",
       " ('Namoli Brennet', 19.646882704388499),\n",
       " ('Dave Cartwright', 19.672315572906001),\n",
       " ('Hilary Alexander', 19.672315572906001),\n",
       " ('Karen Maruyama', 19.697715603592208),\n",
       " ('Charles Black (counterfeiter)', 19.748417658131498)]"
      ]
     },
     "execution_count": 32,
     "metadata": {},
     "output_type": "execute_result"
    }
   ],
   "source": [
    "distances_raw_beckham, indices_raw_beckham = neighbors_raw.kneighbors(features[beckham.index], return_distance=True)\n",
    "\n",
    "beckham_closest_raw = {peop:dist for peop, dist in zip(people.iloc[indices_raw_beckham[0]]['name'], distances_raw_beckham[0])}\n",
    "\n",
    "sorted(beckham_closest_raw.items(),key=operator.itemgetter(1),reverse=False)"
   ]
  },
  {
   "cell_type": "markdown",
   "metadata": {},
   "source": [
    "# Question 9\n",
    "Who is the nearest neighbor to 'Victoria Beckham' using TF-IDF?"
   ]
  },
  {
   "cell_type": "code",
   "execution_count": 29,
   "metadata": {},
   "outputs": [
    {
     "data": {
      "text/plain": [
       "[('Victoria Beckham', 0.0),\n",
       " ('David Beckham', 1.0727721445393383),\n",
       " ('Stephen Dow Beckham', 1.2642770409366204),\n",
       " ('Caroline Rush', 1.2745985436463616),\n",
       " ('Angelique Westerhof', 1.2761121836156752),\n",
       " ('Wal%C3%A9 Adeyemi', 1.2800181981682079),\n",
       " ('Colin McDowell', 1.2806572846455802),\n",
       " ('Zurain Imam', 1.2808955667963822),\n",
       " ('Mel B', 1.2813653221401371),\n",
       " ('Yuliya Polishchuk', 1.2819006119162419)]"
      ]
     },
     "execution_count": 29,
     "metadata": {},
     "output_type": "execute_result"
    }
   ],
   "source": [
    "distances_tfidf_beckham, indices_tfidf_beckham = neighbors_tfidf.kneighbors(dtm[beckham.index], return_distance=True)\n",
    "\n",
    "beckham_closest_tfidf = {peop:dist for peop, dist in zip(people.iloc[indices_tfidf_beckham[0]]['name'], distances_tfidf_beckham[0])}\n",
    "\n",
    "sorted(beckham_closest_tfidf.items(),key=operator.itemgetter(1),reverse=False)"
   ]
  }
 ],
 "metadata": {
  "kernelspec": {
   "display_name": "Python [default]",
   "language": "python",
   "name": "python3"
  },
  "language_info": {
   "codemirror_mode": {
    "name": "ipython",
    "version": 3
   },
   "file_extension": ".py",
   "mimetype": "text/x-python",
   "name": "python",
   "nbconvert_exporter": "python",
   "pygments_lexer": "ipython3",
   "version": "3.6.2"
  }
 },
 "nbformat": 4,
 "nbformat_minor": 2
}
