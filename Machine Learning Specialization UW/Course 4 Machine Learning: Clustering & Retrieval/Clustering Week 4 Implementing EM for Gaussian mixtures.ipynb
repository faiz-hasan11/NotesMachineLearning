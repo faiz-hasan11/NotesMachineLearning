{
 "cells": [
  {
   "cell_type": "code",
   "execution_count": 1,
   "metadata": {
    "collapsed": true
   },
   "outputs": [],
   "source": [
    "import pandas as pd                                         \n",
    "import numpy as np                                             # dense matrices\n",
    "import matplotlib.pyplot as plt                                # plotting\n",
    "from scipy.stats import multivariate_normal                    # multivariate Gaussian distribution\n",
    "import copy                                                    # deep copies\n",
    "\n",
    "# image handling library\n",
    "from PIL import Image\n",
    "from io import BytesIO\n",
    "\n",
    "%matplotlib inline"
   ]
  },
  {
   "cell_type": "markdown",
   "metadata": {},
   "source": [
    "### Implementing the EM algorithm for Gaussian mixture models\n",
    "\n",
    "In this section, you will implement the EM algorithm. We will take the following steps:\n",
    "\n",
    "  *  Create some synthetic data.\n",
    "  *  Provide a log likelihood function for this model.\n",
    "  *  Implement the EM algorithm.\n",
    "  *  Visualize the progress of the parameters during the course of running EM.\n",
    "  *  Visualize the convergence of the model.\n",
    "\n",
    "Log likelihood. We provide a function to calculate log likelihood for mixture of Gaussians. The log likelihood quantifies the probability of observing a given set of data under a particular setting of the parameters in our model. We will use this to assess convergence of our EM algorithm; specifically, we will keep looping through EM update steps until the log likelihood ceases to increase at a certain rate."
   ]
  },
  {
   "cell_type": "code",
   "execution_count": 2,
   "metadata": {
    "collapsed": true
   },
   "outputs": [],
   "source": [
    "def log_sum_exp(Z):\n",
    "    \"\"\" Compute log(\\sum_i exp(Z_i)) for some array Z.\"\"\"\n",
    "    return np.max(Z) + np.log(np.sum(np.exp(Z - np.max(Z))))\n",
    "\n",
    "def loglikelihood(data, weights, means, covs):\n",
    "    \"\"\" Compute the loglikelihood of the data for a Gaussian mixture model with the given parameters. \"\"\"\n",
    "    num_clusters = len(means)\n",
    "    num_dim = len(data[0])\n",
    "    \n",
    "    ll = 0\n",
    "    for d in data:\n",
    "        \n",
    "        Z = np.zeros(num_clusters)\n",
    "        for k in range(num_clusters):\n",
    "            \n",
    "            # Compute (x-mu)^T * Sigma^{-1} * (x-mu)\n",
    "            delta = np.array(d) - means[k]\n",
    "            exponent_term = np.dot(delta.T, np.dot(np.linalg.inv(covs[k]), delta))\n",
    "            \n",
    "            # Compute loglikelihood contribution for this data point and this cluster\n",
    "            Z[k] += np.log(weights[k])\n",
    "            Z[k] -= 1/2. * (num_dim * np.log(2*np.pi) + np.log(np.linalg.det(covs[k])) + exponent_term)\n",
    "            \n",
    "        # Increment loglikelihood contribution of this data point across all clusters\n",
    "        ll += log_sum_exp(Z)\n",
    "        \n",
    "    return ll"
   ]
  },
  {
   "cell_type": "markdown",
   "metadata": {},
   "source": [
    "### E-step: assign cluster responsibilities, given current parameters\n",
    "\n",
    "The first step in the EM algorithm is to compute cluster responsibilities. Let $r_{ik}$ denote the responsibility of cluster $k$ for data point $i$. Note that cluster responsibilities are fractional parts: Cluster responsibilities for a single data point $i$ should sum to 1.\n",
    "$$\n",
    "r_{i1} + r_{i2} + \\ldots + r_{iK} = 1\n",
    "$$\n",
    "\n",
    "To figure how much a cluster is responsible for a given data point, we compute the likelihood of the data point under the  particular cluster assignment, multiplied by the weight of the cluster. For data point $i$ and cluster $k$, this quantity is\n",
    "$$\n",
    "r_{ik} \\propto \\pi_k N(x_i | \\mu_k, \\Sigma_k)\n",
    "$$\n",
    "where $N(x_i | \\mu_k, \\Sigma_k)$ is the Gaussian distribution for cluster $k$ (with mean $\\mu_k$ and covariance $\\Sigma_k$).\n",
    "\n",
    "We used $\\propto$ because the quantity $N(x_i | \\mu_k, \\Sigma_k)$ is not yet the responsibility we want. To ensure that all responsibilities over each data point add up to 1, we add the normalization constant in the denominator:\n",
    "$$\n",
    "r_{ik} = \\frac{\\pi_k N(x_i | \\mu_k, \\Sigma_k)}{\\sum_{k=1}^{K} \\pi_k N(x_i | \\mu_k, \\Sigma_k)}.\n",
    "$$\n",
    "\n",
    "Complete the following function that computes $r_{ik}$ for all data points $i$ and clusters $k$.\n",
    "\n",
    "**Drawing from a Gaussian distribution.** SciPy provides a convenient function [multivariate_normal.pdf](http://docs.scipy.org/doc/scipy-0.14.0/reference/generated/scipy.stats.multivariate_normal.html) that computes the likelihood of seeing a data point in a multivariate Gaussian distribution. The usage is\n",
    "```\n",
    "multivariate_normal.pdf([data point], mean=[mean vector], cov=[covariance matrix])"
   ]
  },
  {
   "cell_type": "code",
   "execution_count": 6,
   "metadata": {
    "collapsed": true
   },
   "outputs": [],
   "source": [
    "def compute_responsibilities(data, weights, means, covariances):\n",
    "    '''E-step: compute responsibilities, given the current parameters'''\n",
    "    num_data = len(data)\n",
    "    num_clusters = len(means)\n",
    "    resp = np.zeros((num_data, num_clusters))\n",
    "    \n",
    "    # Update resp matrix so that resp[i,k] is the responsibility of cluster k for data point i.\n",
    "    # Hint: To compute likelihood of seeing data point i given cluster k, use multivariate_normal.pdf.\n",
    "    for i in range(num_data):\n",
    "        for k in range(num_clusters):\n",
    "            resp[i, k] = weights[k] * multivariate_normal.pdf(data[i], means[k], covariances[k])\n",
    "    \n",
    "    # Add up responsibilities over each data point and normalize\n",
    "    row_sums = resp.sum(axis=1)[:, np.newaxis]\n",
    "    resp = resp / row_sums\n",
    "    \n",
    "    return resp"
   ]
  },
  {
   "cell_type": "markdown",
   "metadata": {},
   "source": [
    "Checkpoint."
   ]
  },
  {
   "cell_type": "code",
   "execution_count": 7,
   "metadata": {},
   "outputs": [
    {
     "name": "stdout",
     "output_type": "stream",
     "text": [
      "Checkpoint passed!\n"
     ]
    }
   ],
   "source": [
    "resp = compute_responsibilities(data=np.array([[1.,2.],[-1.,-2.]]), weights=np.array([0.3, 0.7]),\n",
    "                                means=[np.array([0.,0.]), np.array([1.,1.])],\n",
    "                                covariances=[np.array([[1.5, 0.],[0.,2.5]]), np.array([[1.,1.],[1.,2.]])])\n",
    "\n",
    "if resp.shape==(2,2) and np.allclose(resp, np.array([[0.10512733, 0.89487267], [0.46468164, 0.53531836]])):\n",
    "    print('Checkpoint passed!')\n",
    "else:\n",
    "    print('Check your code again.')"
   ]
  },
  {
   "cell_type": "markdown",
   "metadata": {},
   "source": [
    "#### M-step Update parameters, given current cluster responsibilities.\n",
    "\n",
    "Once the cluster responsibilities are computed, we update the parameters (weights, means, and covariances) associated with the clusters.\n",
    "\n",
    "**Computing soft counts**. Before updating the parameters, we first compute what is known as \"soft counts\". The soft count of a cluster is the sum of all cluster responsibilities for that cluster:\n",
    "$$\n",
    "N^{\\text{soft}}_k = r_{1k} + r_{2k} + \\ldots + r_{Nk} = \\sum_{i=1}^{N} r_{ik}\n",
    "$$\n",
    "\n",
    "where we loop over data points. Note that, unlike k-means, we must loop over every single data point in the dataset. This is because all clusters are represented in all data points, to a varying degree.\n",
    "\n",
    "We provide the function for computing the soft counts:\n"
   ]
  },
  {
   "cell_type": "code",
   "execution_count": 8,
   "metadata": {
    "collapsed": true
   },
   "outputs": [],
   "source": [
    "def compute_soft_counts(resp):\n",
    "    # Compute the total responsibility assigned to each cluster, which will be useful when \n",
    "    # implementing M-steps below. In the lectures this is called N^{soft}\n",
    "    counts = np.sum(resp, axis=0)\n",
    "    return counts"
   ]
  },
  {
   "cell_type": "markdown",
   "metadata": {},
   "source": [
    "**Updating weights.** The cluster weights show us how much each cluster is represented over all data points. The weight of cluster $k$ is given by the ratio of the soft count $N^{\\text{soft}}_{k}$ to the total number of data points $N$:\n",
    "$$\n",
    "\\hat{\\pi}_k = \\frac{N^{\\text{soft}}_{k}}{N}\n",
    "$$\n",
    "Notice that $N$ is equal to the sum over the soft counts $N^{\\text{soft}}_{k}$ of all clusters.\n",
    "\n",
    "Complete the following function:"
   ]
  },
  {
   "cell_type": "code",
   "execution_count": 17,
   "metadata": {
    "collapsed": true
   },
   "outputs": [],
   "source": [
    "def compute_weights(counts):\n",
    "    num_clusters = len(counts)\n",
    "    weights = [0.] * num_clusters\n",
    "    \n",
    "    for k in range(num_clusters):\n",
    "        # Update the weight for cluster k using the M-step update rule for the cluster weight, \\hat{\\pi}_k.\n",
    "        # HINT: compute # of data points by summing soft counts.\n",
    "        weights[k] = counts[k]/counts.sum()\n",
    "\n",
    "    return weights"
   ]
  },
  {
   "cell_type": "markdown",
   "metadata": {},
   "source": [
    "Checkpoint"
   ]
  },
  {
   "cell_type": "code",
   "execution_count": 18,
   "metadata": {},
   "outputs": [
    {
     "name": "stdout",
     "output_type": "stream",
     "text": [
      "[ 0.83714598  2.16285402]\n",
      "[0.27904865942515705, 0.720951340574843]\n",
      "Checkpoint passed!\n"
     ]
    }
   ],
   "source": [
    "resp = compute_responsibilities(data=np.array([[1.,2.],[-1.,-2.],[0,0]]), weights=np.array([0.3, 0.7]),\n",
    "                                means=[np.array([0.,0.]), np.array([1.,1.])],\n",
    "                                covariances=[np.array([[1.5, 0.],[0.,2.5]]), np.array([[1.,1.],[1.,2.]])])\n",
    "counts = compute_soft_counts(resp)\n",
    "weights = compute_weights(counts)\n",
    "\n",
    "print(counts)\n",
    "print(weights)\n",
    "\n",
    "if np.allclose(weights, [0.27904865942515705, 0.720951340574843]):\n",
    "    print('Checkpoint passed!')\n",
    "else:\n",
    "    print('Check your code again.')"
   ]
  },
  {
   "cell_type": "markdown",
   "metadata": {},
   "source": [
    "**Updating means**. The mean of each cluster is set to the [weighted average](https://en.wikipedia.org/wiki/Weighted_arithmetic_mean) of all data points, weighted by the cluster responsibilities:\n",
    "$$\n",
    "\\hat{\\mu}_k = \\frac{1}{N_k^{\\text{soft}}} \\sum_{i=1}^N r_{ik}x_i\n",
    "$$\n",
    "\n",
    "Complete the following function:"
   ]
  },
  {
   "cell_type": "code",
   "execution_count": 21,
   "metadata": {
    "collapsed": true
   },
   "outputs": [],
   "source": [
    "def compute_means(data, resp, counts):\n",
    "    num_clusters = len(counts)\n",
    "    num_data = len(data)\n",
    "    means = [np.zeros(len(data[0]))] * num_clusters\n",
    "    \n",
    "    for k in range(num_clusters):\n",
    "        # Update means for cluster k using the M-step update rule for the mean variables.\n",
    "        # This will assign the variable means[k] to be our estimate for \\hat{\\mu}_k.\n",
    "        weighted_sum = 0.\n",
    "        for i in range(num_data):\n",
    "            weighted_sum += resp[i,k] * data[i]\n",
    "        means[k] = weighted_sum/counts[k]\n",
    "\n",
    "    return means"
   ]
  },
  {
   "cell_type": "markdown",
   "metadata": {},
   "source": [
    "Checkpoint"
   ]
  },
  {
   "cell_type": "code",
   "execution_count": 22,
   "metadata": {},
   "outputs": [
    {
     "name": "stdout",
     "output_type": "stream",
     "text": [
      "Checkpoint passed!\n"
     ]
    }
   ],
   "source": [
    "data_tmp = np.array([[1.,2.],[-1.,-2.]])\n",
    "resp = compute_responsibilities(data=data_tmp, weights=np.array([0.3, 0.7]),\n",
    "                                means=[np.array([0.,0.]), np.array([1.,1.])],\n",
    "                                covariances=[np.array([[1.5, 0.],[0.,2.5]]), np.array([[1.,1.],[1.,2.]])])\n",
    "counts = compute_soft_counts(resp)\n",
    "means = compute_means(data_tmp, resp, counts)\n",
    "\n",
    "if np.allclose(means, np.array([[-0.6310085, -1.262017], [0.25140299, 0.50280599]])):\n",
    "    print('Checkpoint passed!')\n",
    "else:\n",
    "    print('Check your code again.')"
   ]
  },
  {
   "cell_type": "markdown",
   "metadata": {},
   "source": [
    "**Updating covariances**.  The covariance of each cluster is set to the weighted average of all [outer products](https://people.duke.edu/~ccc14/sta-663/LinearAlgebraReview.html), weighted by the cluster responsibilities:\n",
    "$$\n",
    "\\hat{\\Sigma}_k = \\frac{1}{N^{\\text{soft}}_k}\\sum_{i=1}^N r_{ik} (x_i - \\hat{\\mu}_k)(x_i - \\hat{\\mu}_k)^T\n",
    "$$\n",
    "\n",
    "The \"outer product\" in this context refers to the matrix product\n",
    "$$\n",
    "(x_i - \\hat{\\mu}_k)(x_i - \\hat{\\mu}_k)^T.\n",
    "$$\n",
    "Letting $(x_i - \\hat{\\mu}_k)$ to be $d \\times 1$ column vector, this product is a $d \\times d$ matrix. Taking the weighted average of all outer products gives us the covariance matrix, which is also $d \\times d$.\n",
    "\n",
    "Complete the following function:"
   ]
  },
  {
   "cell_type": "code",
   "execution_count": 23,
   "metadata": {
    "collapsed": true
   },
   "outputs": [],
   "source": [
    "def compute_covariances(data, resp, counts, means):\n",
    "    num_clusters = len(counts)\n",
    "    num_dim = len(data[0])\n",
    "    num_data = len(data)\n",
    "    covariances = [np.zeros((num_dim,num_dim))] * num_clusters\n",
    "    \n",
    "    for k in range(num_clusters):\n",
    "        # Update covariances for cluster k using the M-step update rule for covariance variables.\n",
    "        # This will assign the variable covariances[k] to be the estimate for \\hat{\\Sigma}_k.\n",
    "        weighted_sum = np.zeros((num_dim, num_dim))\n",
    "        for i in range(num_data):\n",
    "            # (Hint: Use np.outer on the data[i] and this cluster's mean)\n",
    "            weighted_sum += resp[i,k] * np.outer(data[i] - means[k], data[i] - means[k])\n",
    "        covariances[k] = weighted_sum/counts[k]\n",
    "\n",
    "    return covariances"
   ]
  },
  {
   "cell_type": "markdown",
   "metadata": {},
   "source": [
    "** Checkpoint**"
   ]
  },
  {
   "cell_type": "code",
   "execution_count": 24,
   "metadata": {},
   "outputs": [
    {
     "name": "stdout",
     "output_type": "stream",
     "text": [
      "Checkpoint passed!\n"
     ]
    }
   ],
   "source": [
    "data_tmp = np.array([[1.,2.],[-1.,-2.]])\n",
    "resp = compute_responsibilities(data=data_tmp, weights=np.array([0.3, 0.7]),\n",
    "                                means=[np.array([0.,0.]), np.array([1.,1.])],\n",
    "                                covariances=[np.array([[1.5, 0.],[0.,2.5]]), np.array([[1.,1.],[1.,2.]])])\n",
    "counts = compute_soft_counts(resp)\n",
    "means = compute_means(data_tmp, resp, counts)\n",
    "covariances = compute_covariances(data_tmp, resp, counts, means)\n",
    "\n",
    "if np.allclose(covariances[0], np.array([[0.60182827, 1.20365655], [1.20365655, 2.4073131]])) and \\\n",
    "    np.allclose(covariances[1], np.array([[ 0.93679654, 1.87359307], [1.87359307, 3.74718614]])):\n",
    "    print('Checkpoint passed!')\n",
    "else:\n",
    "    print('Check your code again.')"
   ]
  },
  {
   "cell_type": "markdown",
   "metadata": {},
   "source": [
    "### The EM algorithm\n",
    "\n",
    "We are almost done. Let us write a function that takes initial parameter estimates and runs EM."
   ]
  },
  {
   "cell_type": "code",
   "execution_count": 25,
   "metadata": {
    "collapsed": true
   },
   "outputs": [],
   "source": [
    "# SOLUTION\n",
    "def EM(data, init_means, init_covariances, init_weights, maxiter=1000, thresh=1e-4):\n",
    "    \n",
    "    # Make copies of initial parameters, which we will update during each iteration\n",
    "    means = init_means[:]\n",
    "    covariances = init_covariances[:]\n",
    "    weights = init_weights[:]\n",
    "    \n",
    "    # Infer dimensions of dataset and the number of clusters\n",
    "    num_data = len(data)\n",
    "    num_dim = len(data[0])\n",
    "    num_clusters = len(means)\n",
    "    \n",
    "    # Initialize some useful variables\n",
    "    resp = np.zeros((num_data, num_clusters))\n",
    "    ll = loglikelihood(data, weights, means, covariances)\n",
    "    ll_trace = [ll]\n",
    "    \n",
    "    for it in range(maxiter):\n",
    "        if it % 5 == 0:\n",
    "            print(\"Iteration %s\" % it)\n",
    "        \n",
    "        # E-step: compute responsibilities\n",
    "        resp = compute_responsibilities(data, weights, means, covariances)\n",
    "\n",
    "        # M-step\n",
    "        # Compute the total responsibility assigned to each cluster, which will be useful when \n",
    "        # implementing M-steps below. In the lectures this is called N^{soft}\n",
    "        counts = compute_soft_counts(resp)\n",
    "        \n",
    "        # Update the weight for cluster k using the M-step update rule for the cluster weight, \\hat{\\pi}_k.\n",
    "    \n",
    "        weights = compute_weights(counts)\n",
    "        \n",
    "        # Update means for cluster k using the M-step update rule for the mean variables.\n",
    "        # This will assign the variable means[k] to be our estimate for \\hat{\\mu}_k.\n",
    "\n",
    "        means = compute_means(data, resp, counts)\n",
    "        \n",
    "        # Update covariances for cluster k using the M-step update rule for covariance variables.\n",
    "        # This will assign the variable covariances[k] to be the estimate for \\hat{\\Sigma}_k.\n",
    "\n",
    "        covariances = compute_covariances(data, resp, counts, means)\n",
    "        \n",
    "        # Compute the loglikelihood at this iteration\n",
    "\n",
    "        ll_latest = loglikelihood(data, weights, means, covariances)\n",
    "        ll_trace.append(ll_latest)\n",
    "        \n",
    "        # Check for convergence in log-likelihood and store\n",
    "        if (ll_latest - ll) < thresh and ll_latest > -np.inf:\n",
    "            break\n",
    "        ll = ll_latest\n",
    "    \n",
    "    if it % 5 != 0:\n",
    "        print(\"Iteration %s\" % it)\n",
    "    \n",
    "    out = {'weights': weights, 'means': means, 'covs': covariances, 'loglik': ll_trace, 'resp': resp}\n",
    "\n",
    "    return out"
   ]
  },
  {
   "cell_type": "markdown",
   "metadata": {},
   "source": [
    "### Testing the implementation on the simulated data\n",
    "\n",
    "To help us develop and test our implementation, we will generate some observations from a mixture of Gaussians and then run our EM algorithm to discover the mixture components. We'll begin with a function to generate the data, and a quick plot to visualize its output for a 2-dimensional mixture of three Gaussians.\n",
    "\n",
    "Now we will create a function to generate data from a mixture of Gaussians model. "
   ]
  },
  {
   "cell_type": "code",
   "execution_count": 26,
   "metadata": {
    "collapsed": true
   },
   "outputs": [],
   "source": [
    "def generate_MoG_data(num_data, means, covariances, weights):\n",
    "    \"\"\" Creates a list of data points \"\"\"\n",
    "    num_clusters = len(weights)\n",
    "    data = []\n",
    "    for i in range(num_data):\n",
    "        #  Use np.random.choice and weights to pick a cluster id greater than or equal to 0 and less than num_clusters.\n",
    "        k = np.random.choice(len(weights), 1, p=weights)[0]\n",
    "\n",
    "        # Use np.random.multivariate_normal to create data from this cluster\n",
    "        x = np.random.multivariate_normal(means[k], covariances[k])\n",
    "\n",
    "        data.append(x)\n",
    "    return data"
   ]
  },
  {
   "cell_type": "markdown",
   "metadata": {},
   "source": [
    "After specifying a particular set of clusters (so that the results are reproducible across assignments), we use the above function to generate a dataset."
   ]
  },
  {
   "cell_type": "code",
   "execution_count": 27,
   "metadata": {
    "collapsed": true
   },
   "outputs": [],
   "source": [
    "# Model parameters\n",
    "init_means = [\n",
    "    [5, 0], # mean of cluster 1\n",
    "    [1, 1], # mean of cluster 2\n",
    "    [0, 5]  # mean of cluster 3\n",
    "]\n",
    "init_covariances = [\n",
    "    [[.5, 0.], [0, .5]], # covariance of cluster 1\n",
    "    [[.92, .38], [.38, .91]], # covariance of cluster 2\n",
    "    [[.5, 0.], [0, .5]]  # covariance of cluster 3\n",
    "]\n",
    "init_weights = [1/4., 1/2., 1/4.]  # weights of each cluster\n",
    "\n",
    "# Generate data\n",
    "np.random.seed(4)\n",
    "data = generate_MoG_data(100, init_means, init_covariances, init_weights)"
   ]
  },
  {
   "cell_type": "markdown",
   "metadata": {},
   "source": [
    "Now plot the data you created above. The plot should be a scatterplot with 100 points that appear to roughly fall into three clusters."
   ]
  },
  {
   "cell_type": "code",
   "execution_count": 28,
   "metadata": {},
   "outputs": [
    {
     "data": {
      "image/png": "[encoded data removed]",
      "text/plain": [
       "<matplotlib.figure.Figure at 0x7f79f87e1240>"
      ]
     },
     "metadata": {},
     "output_type": "display_data"
    }
   ],
   "source": [
    "plt.figure()\n",
    "d = np.vstack(data)\n",
    "plt.plot(d[:,0], d[:,1],'ko')\n",
    "plt.rcParams.update({'font.size':16})\n",
    "plt.tight_layout()"
   ]
  },
  {
   "cell_type": "markdown",
   "metadata": {},
   "source": [
    "Now we'll fit a mixture of Gaussians to this data using our implementation of the EM algorithm. As with k-means, it is important to ask how we obtain an initial configuration of mixing weights and component parameters. In this simple case, we'll take three random points to be the initial cluster means, use the empirical covariance of the data to be the initial covariance in each cluster (a clear overestimate), and set the initial mixing weights to be uniform across clusters."
   ]
  },
  {
   "cell_type": "code",
   "execution_count": 29,
   "metadata": {},
   "outputs": [
    {
     "name": "stdout",
     "output_type": "stream",
     "text": [
      "Iteration 0\n",
      "Iteration 5\n",
      "Iteration 10\n",
      "Iteration 15\n",
      "Iteration 20\n",
      "Iteration 22\n"
     ]
    }
   ],
   "source": [
    "np.random.seed(4)\n",
    "\n",
    "# Initialization of parameters\n",
    "chosen = np.random.choice(len(data), 3, replace=False)\n",
    "initial_means = [data[x] for x in chosen]\n",
    "initial_covs = [np.cov(data, rowvar=0)] * 3\n",
    "initial_weights = [1/3.] * 3\n",
    "\n",
    "# Run EM \n",
    "results = EM(data, initial_means, initial_covs, initial_weights)"
   ]
  },
  {
   "cell_type": "markdown",
   "metadata": {},
   "source": [
    "**Note**. Like k-means, EM is prone to converging to a local optimum. In practice, you may want to run EM multiple times with different random initialization. We have omitted multiple restarts to keep the assignment reasonably short. For the purpose of this assignment, we assign a particular random seed (`seed=4`) to ensure consistent results among the students.\n",
    "\n",
    "**Checkpoint**. For this particular example, the EM algorithm is expected to terminate in 23 iterations. That is, the last line of the log should say \"Iteration 22\". If your function stopped too early or too late, you should re-visit your code."
   ]
  },
  {
   "cell_type": "markdown",
   "metadata": {},
   "source": [
    "Our algorithm returns a dictionary with five elements: \n",
    "* 'loglik': a record of the log likelihood at each iteration\n",
    "* 'resp': the final responsibility matrix\n",
    "* 'means': a list of K means\n",
    "* 'covs': a list of K covariance matrices\n",
    "* 'weights': the weights corresponding to each model component"
   ]
  },
  {
   "cell_type": "markdown",
   "metadata": {},
   "source": [
    "# Question 1\n",
    "What is the weight that EM assigns to the first component after running the above codeblock? Round your answer to 3 decimal places.\n"
   ]
  },
  {
   "cell_type": "code",
   "execution_count": 33,
   "metadata": {},
   "outputs": [
    {
     "data": {
      "text/plain": [
       "[0.30071023006098241, 0.17993710074247016, 0.51935266919654743]"
      ]
     },
     "execution_count": 33,
     "metadata": {},
     "output_type": "execute_result"
    }
   ],
   "source": [
    "results['weights']"
   ]
  },
  {
   "cell_type": "markdown",
   "metadata": {},
   "source": [
    "# Question 2\n",
    "Using the same set of results, obtain the mean that EM assigns the second component. What is the mean in the first dimension? Round your answer to 3 decimal places."
   ]
  },
  {
   "cell_type": "code",
   "execution_count": 35,
   "metadata": {},
   "outputs": [
    {
     "data": {
      "text/plain": [
       "[array([ 0.02138285,  4.947729  ]),\n",
       " array([ 4.94239235,  0.31365311]),\n",
       " array([ 1.08181125,  0.73903508])]"
      ]
     },
     "execution_count": 35,
     "metadata": {},
     "output_type": "execute_result"
    }
   ],
   "source": [
    "results['means']"
   ]
  },
  {
   "cell_type": "markdown",
   "metadata": {},
   "source": [
    "# Question 3\n",
    "Using the same set of results, obtain the covariance that EM assigns the third component. What is the variance in the first dimension? Round your answer to 3 decimal places."
   ]
  },
  {
   "cell_type": "code",
   "execution_count": 36,
   "metadata": {},
   "outputs": [
    {
     "data": {
      "text/plain": [
       "[array([[ 0.2932614 ,  0.05048455],\n",
       "        [ 0.05048455,  0.35281537]]), array([[ 0.3556437 , -0.01494875],\n",
       "        [-0.01494875,  0.66695025]]), array([[ 0.67114992,  0.33058965],\n",
       "        [ 0.33058965,  0.90429724]])]"
      ]
     },
     "execution_count": 36,
     "metadata": {},
     "output_type": "execute_result"
    }
   ],
   "source": [
    "results['covs']"
   ]
  },
  {
   "cell_type": "markdown",
   "metadata": {},
   "source": [
    "### Plot progress of parameters\n",
    "One useful feature of testing our implementation on low-dimensional simulated data is that we can easily visualize the results. \n",
    "\n",
    "We will use the following `plot_contours` function to visualize the Gaussian components over the data at three different points in the algorithm's execution:\n",
    "\n",
    "1. At initialization (using initial_mu, initial_cov, and initial_weights)\n",
    "2. After running the algorithm to completion \n",
    "3. After just 12 iterations (using parameters estimates returned when setting `maxiter=12`)"
   ]
  },
  {
   "cell_type": "code",
   "execution_count": 37,
   "metadata": {
    "collapsed": true
   },
   "outputs": [],
   "source": [
    "import matplotlib.mlab as mlab\n",
    "def plot_contours(data, means, covs, title):\n",
    "    plt.figure()\n",
    "    plt.plot([x[0] for x in data], [y[1] for y in data],'ko') # data\n",
    "\n",
    "    delta = 0.025\n",
    "    k = len(means)\n",
    "    x = np.arange(-2.0, 7.0, delta)\n",
    "    y = np.arange(-2.0, 7.0, delta)\n",
    "    X, Y = np.meshgrid(x, y)\n",
    "    col = ['green', 'red', 'indigo']\n",
    "    for i in range(k):\n",
    "        mean = means[i]\n",
    "        cov = covs[i]\n",
    "        sigmax = np.sqrt(cov[0][0])\n",
    "        sigmay = np.sqrt(cov[1][1])\n",
    "        sigmaxy = cov[0][1]/(sigmax*sigmay)\n",
    "        Z = mlab.bivariate_normal(X, Y, sigmax, sigmay, mean[0], mean[1], sigmaxy)\n",
    "        plt.contour(X, Y, Z, colors = col[i])\n",
    "        plt.title(title)\n",
    "    plt.rcParams.update({'font.size':16})\n",
    "    plt.tight_layout()"
   ]
  },
  {
   "cell_type": "code",
   "execution_count": 38,
   "metadata": {},
   "outputs": [
    {
     "data": {
      "image/png": "[encoded data removed]",
      "text/plain": [
       "<matplotlib.figure.Figure at 0x7f79f88a58d0>"
      ]
     },
     "metadata": {},
     "output_type": "display_data"
    }
   ],
   "source": [
    "# Parameters after initialization\n",
    "plot_contours(data, initial_means, initial_covs, 'Initial clusters')"
   ]
  },
  {
   "cell_type": "code",
   "execution_count": 39,
   "metadata": {},
   "outputs": [
    {
     "name": "stdout",
     "output_type": "stream",
     "text": [
      "Iteration 0\n",
      "Iteration 5\n",
      "Iteration 10\n",
      "Iteration 15\n",
      "Iteration 20\n",
      "Iteration 22\n"
     ]
    },
    {
     "data": {
      "image/png": "[encoded data removed]",
      "text/plain": [
       "<matplotlib.figure.Figure at 0x7f79f003df98>"
      ]
     },
     "metadata": {},
     "output_type": "display_data"
    }
   ],
   "source": [
    "# Parameters after running EM to convergence\n",
    "results = EM(data, initial_means, initial_covs, initial_weights)\n",
    "plot_contours(data, results['means'], results['covs'], 'Final clusters')"
   ]
  },
  {
   "cell_type": "markdown",
   "metadata": {},
   "source": [
    "Fill in the following code block to visualize the set of parameters we get after running EM for 12 iterations."
   ]
  },
  {
   "cell_type": "code",
   "execution_count": 40,
   "metadata": {},
   "outputs": [
    {
     "name": "stdout",
     "output_type": "stream",
     "text": [
      "Iteration 0\n",
      "Iteration 5\n",
      "Iteration 10\n",
      "Iteration 11\n"
     ]
    },
    {
     "data": {
      "image/png": "[encoded data removed]",
      "text/plain": [
       "<matplotlib.figure.Figure at 0x7f79ea723390>"
      ]
     },
     "metadata": {},
     "output_type": "display_data"
    }
   ],
   "source": [
    "results = EM(data, initial_means, initial_covs, initial_weights, maxiter = 12)\n",
    "\n",
    "plot_contours(data, results['means'], results['covs'], 'Clusters after 12 iterations')"
   ]
  },
  {
   "cell_type": "markdown",
   "metadata": {},
   "source": [
    "# Question 4\n",
    "\n",
    "Is the loglikelihood plot monotonically increasing, monotonically decreasing, or neither?"
   ]
  },
  {
   "cell_type": "code",
   "execution_count": 41,
   "metadata": {},
   "outputs": [
    {
     "name": "stdout",
     "output_type": "stream",
     "text": [
      "Iteration 0\n",
      "Iteration 5\n",
      "Iteration 10\n",
      "Iteration 15\n",
      "Iteration 20\n",
      "Iteration 22\n"
     ]
    }
   ],
   "source": [
    "results = EM(data, initial_means, initial_covs, initial_weights)\n",
    "\n",
    "\n",
    "loglikelihoods = results['loglik']"
   ]
  },
  {
   "cell_type": "code",
   "execution_count": 42,
   "metadata": {},
   "outputs": [
    {
     "data": {
      "image/png": "[encoded data removed]",
      "text/plain": [
       "<matplotlib.figure.Figure at 0x7f79ebfe7128>"
      ]
     },
     "metadata": {},
     "output_type": "display_data"
    }
   ],
   "source": [
    "plt.plot(range(len(loglikelihoods)), loglikelihoods, linewidth=4)\n",
    "plt.xlabel('Iteration')\n",
    "plt.ylabel('Log-likelihood')\n",
    "plt.rcParams.update({'font.size':16})\n",
    "plt.tight_layout()"
   ]
  },
  {
   "cell_type": "markdown",
   "metadata": {},
   "source": [
    "## Fitting a Gaussian mixture model for image data\n",
    "\n",
    "Now that we're confident in our implementation of the EM algorithm, we'll apply it to cluster some more interesting data. In particular, we have a set of images that come from four categories: sunsets, rivers, trees and forests, and cloudy skies. For each image we are given the average intensity of its red, green, and blue pixels, so we have a 3-dimensional representation of our data. Our goal is to find a good clustering of these images using our EM implementation; ideally our algorithm would find clusters that roughly correspond to the four image categories.\n",
    "\n",
    "To begin with, we'll take a look at the data and get it in a form suitable for input to our algorithm. "
   ]
  },
  {
   "cell_type": "code",
   "execution_count": 44,
   "metadata": {},
   "outputs": [
    {
     "ename": "ModuleNotFoundError",
     "evalue": "No module named 'graphlab'",
     "output_type": "error",
     "traceback": [
      "\u001b[0;31m---------------------------------------------------------------------------\u001b[0m",
      "\u001b[0;31mModuleNotFoundError\u001b[0m                       Traceback (most recent call last)",
      "\u001b[0;32m<ipython-input-44-82d503cf6358>\u001b[0m in \u001b[0;36m<module>\u001b[0;34m()\u001b[0m\n\u001b[0;32m----> 1\u001b[0;31m \u001b[0;32mimport\u001b[0m \u001b[0mgraphlab\u001b[0m \u001b[0;32mas\u001b[0m \u001b[0mgl\u001b[0m\u001b[0;34m\u001b[0m\u001b[0m\n\u001b[0m\u001b[1;32m      2\u001b[0m \u001b[0mimages\u001b[0m \u001b[0;34m=\u001b[0m \u001b[0mgl\u001b[0m\u001b[0;34m.\u001b[0m\u001b[0mSFrame\u001b[0m\u001b[0;34m(\u001b[0m\u001b[0;34m'images.sf'\u001b[0m\u001b[0;34m)\u001b[0m\u001b[0;34m\u001b[0m\u001b[0m\n\u001b[1;32m      3\u001b[0m \u001b[0mgl\u001b[0m\u001b[0;34m.\u001b[0m\u001b[0mcanvas\u001b[0m\u001b[0;34m.\u001b[0m\u001b[0mset_target\u001b[0m\u001b[0;34m(\u001b[0m\u001b[0;34m'ipynb'\u001b[0m\u001b[0;34m)\u001b[0m\u001b[0;34m\u001b[0m\u001b[0m\n\u001b[1;32m      4\u001b[0m \u001b[0;32mimport\u001b[0m \u001b[0marray\u001b[0m\u001b[0;34m\u001b[0m\u001b[0m\n\u001b[1;32m      5\u001b[0m \u001b[0mimages\u001b[0m\u001b[0;34m[\u001b[0m\u001b[0;34m'rgb'\u001b[0m\u001b[0;34m]\u001b[0m \u001b[0;34m=\u001b[0m \u001b[0mimages\u001b[0m\u001b[0;34m.\u001b[0m\u001b[0mpack_columns\u001b[0m\u001b[0;34m(\u001b[0m\u001b[0;34m[\u001b[0m\u001b[0;34m'red'\u001b[0m\u001b[0;34m,\u001b[0m \u001b[0;34m'green'\u001b[0m\u001b[0;34m,\u001b[0m \u001b[0;34m'blue'\u001b[0m\u001b[0;34m]\u001b[0m\u001b[0;34m)\u001b[0m\u001b[0;34m[\u001b[0m\u001b[0;34m'X4'\u001b[0m\u001b[0;34m]\u001b[0m\u001b[0;34m\u001b[0m\u001b[0m\n",
      "\u001b[0;31mModuleNotFoundError\u001b[0m: No module named 'graphlab'"
     ]
    }
   ],
   "source": [
    "import graphlab as gl\n",
    "images = gl.SFrame('images.sf')\n",
    "gl.canvas.set_target('ipynb')\n",
    "import array\n",
    "images['rgb'] = images.pack_columns(['red', 'green', 'blue'])['X4']\n",
    "images.show()"
   ]
  },
  {
   "cell_type": "code",
   "execution_count": null,
   "metadata": {
    "collapsed": true
   },
   "outputs": [],
   "source": []
  },
  {
   "cell_type": "code",
   "execution_count": null,
   "metadata": {
    "collapsed": true
   },
   "outputs": [],
   "source": []
  },
  {
   "cell_type": "markdown",
   "metadata": {},
   "source": [
    "We need to come up with initial estimates for the mixture weights and component parameters. Let's take three images to be our initial cluster centers, and let's initialize the covariance matrix of each cluster to be diagonal with each element equal to the sample variance from the full data. As in our test on simulated data, we'll start by assuming each mixture component has equal weight.\n",
    "\n",
    "This may take a few minutes to run.\n"
   ]
  },
  {
   "cell_type": "code",
   "execution_count": null,
   "metadata": {
    "collapsed": true
   },
   "outputs": [],
   "source": [
    "np.random.seed(1)\n",
    "\n",
    "# Initalize parameters\n",
    "init_means = [images['rgb'][x] for x in np.random.choice(len(images), 4, replace=False)]\n",
    "cov = np.diag([images['red'].var(), images['green'].var(), images['blue'].var()])\n",
    "init_covariances = [cov, cov, cov, cov]\n",
    "init_weights = [1/4., 1/4., 1/4., 1/4.]\n",
    "\n",
    "# Convert rgb data to numpy arrays\n",
    "img_data = [np.array(i) for i in images['rgb']]  \n",
    "\n",
    "# Run our EM algorithm on the image data using the above initializations. \n",
    "# This should converge in about 125 iterations\n",
    "out = EM(img_data, init_means, init_covariances, init_weights)"
   ]
  },
  {
   "cell_type": "markdown",
   "metadata": {},
   "source": [
    "The following sections will evaluate the results by asking the following questions:\n",
    "\n",
    "* **Convergence**: How did the log likelihood change across iterations? Did the algorithm achieve convergence?\n",
    "* **Uncertainty**: How did cluster assignment and uncertainty evolve?\n",
    "* **Interpretability**: Can we view some example images from each cluster? Do these clusters correspond to known image categories?"
   ]
  },
  {
   "cell_type": "markdown",
   "metadata": {},
   "source": [
    "### Evaluating convergence\n",
    "\n",
    "Let's start by plotting the log likelihood at each iteration - we know that the EM algorithm guarantees that the log likelihood can only increase (or stay the same) after each iteration, so if our implementation is correct then we should see an increasing function."
   ]
  },
  {
   "cell_type": "code",
   "execution_count": null,
   "metadata": {
    "collapsed": true
   },
   "outputs": [],
   "source": [
    "ll = out['loglik']\n",
    "plt.plot(range(len(ll)),ll,linewidth=4)\n",
    "plt.xlabel('Iteration')\n",
    "plt.ylabel('Log-likelihood')\n",
    "plt.rcParams.update({'font.size':16})\n",
    "plt.tight_layout()"
   ]
  },
  {
   "cell_type": "markdown",
   "metadata": {},
   "source": [
    "The log likelihood increases so quickly on the first few iterations that we can barely see the plotted line. Let's plot the log likelihood after the first three iterations to get a clearer view of what's going on:"
   ]
  },
  {
   "cell_type": "code",
   "execution_count": null,
   "metadata": {
    "collapsed": true
   },
   "outputs": [],
   "source": [
    "plt.figure()\n",
    "plt.plot(range(3,len(ll)),ll[3:],linewidth=4)\n",
    "plt.xlabel('Iteration')\n",
    "plt.ylabel('Log-likelihood')\n",
    "plt.rcParams.update({'font.size':16})\n",
    "plt.tight_layout()"
   ]
  },
  {
   "cell_type": "markdown",
   "metadata": {},
   "source": [
    "### Evaluating uncertainty\n",
    "\n",
    "Next we'll explore the evolution of cluster assignment and uncertainty. Remember that the EM algorithm represents uncertainty about the cluster assignment of each data point through the responsibility matrix. Rather than making a 'hard' assignment of each data point to a single cluster, the algorithm computes the responsibility of each cluster for each data point, where the responsibility corresponds to our certainty that the observation came from that cluster. \n",
    "\n",
    "We can track the evolution of the responsibilities across iterations to see how these 'soft' cluster assignments change as the algorithm fits the Gaussian mixture model to the data; one good way to do this is to plot the data and color each point according to its cluster responsibilities. Our data are three-dimensional, which can make visualization difficult, so to make things easier we will plot the data using only two dimensions, taking just the [R G], [G B] or [R B] values instead of the full [R G B] measurement for each observation.\n"
   ]
  },
  {
   "cell_type": "code",
   "execution_count": null,
   "metadata": {
    "collapsed": true
   },
   "outputs": [],
   "source": [
    "import colorsys\n",
    "def plot_responsibilities_in_RB(img, resp, title):\n",
    "    N, K = resp.shape\n",
    "    \n",
    "    HSV_tuples = [(x*1.0/K, 0.5, 0.9) for x in range(K)]\n",
    "    RGB_tuples = map(lambda x: colorsys.hsv_to_rgb(*x), HSV_tuples)\n",
    "    \n",
    "    R = img['red']\n",
    "    B = img['blue']\n",
    "    resp_by_img_int = [[resp[n][k] for k in range(K)] for n in range(N)]\n",
    "    cols = [tuple(np.dot(resp_by_img_int[n], np.array(RGB_tuples))) for n in range(N)]\n",
    "\n",
    "    plt.figure()\n",
    "    for n in range(len(R)):\n",
    "        plt.plot(R[n], B[n], 'o', c=cols[n])\n",
    "    plt.title(title)\n",
    "    plt.xlabel('R value')\n",
    "    plt.ylabel('B value')\n",
    "    plt.rcParams.update({'font.size':16})\n",
    "    plt.tight_layout()"
   ]
  },
  {
   "cell_type": "markdown",
   "metadata": {},
   "source": [
    "To begin, we will visualize what happens when each data has random responsibilities."
   ]
  },
  {
   "cell_type": "code",
   "execution_count": null,
   "metadata": {
    "collapsed": true
   },
   "outputs": [],
   "source": [
    "N, K = out['resp'].shape\n",
    "random_resp = np.random.dirichlet(np.ones(K), N)\n",
    "plot_responsibilities_in_RB(images, random_resp, 'Random responsibilities')"
   ]
  },
  {
   "cell_type": "markdown",
   "metadata": {},
   "source": [
    "We now use the above plotting function to visualize the responsibilites after 1 iteration.\n"
   ]
  },
  {
   "cell_type": "code",
   "execution_count": null,
   "metadata": {
    "collapsed": true
   },
   "outputs": [],
   "source": [
    "out = EM(img_data, init_means, init_covariances, init_weights, maxiter=1)\n",
    "plot_responsibilities_in_RB(images, out['resp'], 'After 1 iteration')"
   ]
  },
  {
   "cell_type": "markdown",
   "metadata": {},
   "source": [
    "We now use the above plotting function to visualize the responsibilites after 20 iterations. We will see there are fewer unique colors; this indicates that there is more certainty that each point belongs to one of the four components in the model. "
   ]
  },
  {
   "cell_type": "code",
   "execution_count": null,
   "metadata": {
    "collapsed": true
   },
   "outputs": [],
   "source": [
    "out = EM(img_data, init_means, init_covariances, init_weights, maxiter=20)\n",
    "plot_responsibilities_in_RB(images, out['resp'], 'After 20 iterations')"
   ]
  },
  {
   "cell_type": "markdown",
   "metadata": {},
   "source": [
    "Plotting the responsibilities over time in [R B] space shows a meaningful change in cluster assignments over the course of the algorithm's execution. While the clusters look significantly better organized at the end of the algorithm than they did at the start, it appears from our plot that they are still not very well separated. We note that this is due in part our decision to plot 3D data in a 2D space; everything that was separated along the G axis is now \"squashed\" down onto the flat [R B] plane. If we were to plot the data in full [R G B] space, then we would expect to see further separation of the final clusters.  We'll explore the cluster interpretability more in the next section."
   ]
  },
  {
   "cell_type": "markdown",
   "metadata": {},
   "source": [
    "### Interpreting each cluster\n",
    "Let's dig into the clusters obtained from our EM implementation. Recall that our goal in this section is to cluster images based on their RGB values. We can evaluate the quality of our clustering by taking a look at a few images that 'belong' to each cluster. We hope to find that the clusters discovered by our EM algorithm correspond to different image categories - in this case, we know that our images came from four categories ('cloudy sky', 'rivers', 'sunsets', and 'trees and forests'), so we would expect to find that each component of our fitted mixture model roughly corresponds to one of these categories.\n",
    "\n",
    "If we want to examine some example images from each cluster, we first need to consider how we can determine cluster assignments of the images from our algorithm output. This was easy with k-means - every data point had a 'hard' assignment to a single cluster, and all we had to do was find the cluster center closest to the data point of interest. Here, our clusters are described by probability distributions (specifically, Gaussians) rather than single points, and our model maintains some uncertainty about the cluster assignment of each observation.\n",
    "\n",
    "One way to phrase the question of cluster assignment for mixture models is as follows: how do we calculate the distance of a point from a distribution? Note that simple Euclidean distance might not be appropriate since (non-scaled) Euclidean distance doesn't take direction into account.  For example, if a Gaussian mixture component is very stretched in one direction but narrow in another, then a data point one unit away along the 'stretched' dimension has much higher probability (and so would be thought of as closer) than a data point one unit away along the 'narrow' dimension. \n",
    "\n",
    "In fact, the correct distance metric to use in this case is known as [Mahalanobis distance](https://en.wikipedia.org/wiki/Mahalanobis_distance). For a Gaussian distribution, this distance is proportional to the square root of the negative log likelihood. This makes sense intuitively - reducing the Mahalanobis distance of an observation from a cluster is equivalent to increasing that observation's probability according to the Gaussian that is used to represent the cluster. This also means that we can find the cluster assignment of an observation by taking the Gaussian component for which that observation scores highest. We'll use this fact to find the top examples that are 'closest' to each cluster."
   ]
  },
  {
   "cell_type": "markdown",
   "metadata": {},
   "source": [
    "# Question 5\n",
    "Calculate the likelihood (score) of the first image in our data set (img[0]) under each Gaussian component through a call to `multivariate_normal.pdf`. Given these values, what cluster assignment should we make for this image? "
   ]
  },
  {
   "cell_type": "code",
   "execution_count": null,
   "metadata": {
    "collapsed": true
   },
   "outputs": [],
   "source": []
  },
  {
   "cell_type": "markdown",
   "metadata": {},
   "source": [
    "Now we calculate cluster assignments for the entire image dataset using the result of running EM for 20 iterations above:"
   ]
  },
  {
   "cell_type": "code",
   "execution_count": null,
   "metadata": {
    "collapsed": true
   },
   "outputs": [],
   "source": [
    "weights = out['weights']\n",
    "means = out['means']\n",
    "covariances = out['covs']\n",
    "rgb = images['rgb']\n",
    "N = len(images) # number of images\n",
    "K = len(means) # number of clusters\n",
    "\n",
    "assignments = [0]*N\n",
    "probs = [0]*N\n",
    "\n",
    "for i in range(N):\n",
    "    # Compute the score of data point i under each Gaussian component:\n",
    "    p = np.zeros(K)\n",
    "    for k in range(K):\n",
    "        p[k] = weights[k]*multivariate_normal.pdf(rgb[i], mean=means[k], cov=covariances[k])\n",
    "        \n",
    "    # Compute assignments of each data point to a given cluster based on the above scores:\n",
    "    assignments[i] = np.argmax(p)\n",
    "    \n",
    "    # For data point i, store the corresponding score under this cluster assignment:\n",
    "    probs[i] = np.max(p)\n",
    "\n",
    "assignments = gl.SFrame({'assignments':assignments, 'probs':probs, 'image': images['image']})"
   ]
  },
  {
   "cell_type": "markdown",
   "metadata": {},
   "source": [
    "We'll use the 'assignments' SFrame to find the top images from each cluster by sorting the datapoints within each cluster by their score under that cluster (stored in probs). We can plot the corresponding images in the original data using show().\n",
    "\n",
    "Create a function that returns the top 5 images assigned to a given category in our data (HINT: use the GraphLab Create function topk(column, k) to find the k top values according to specified column in an SFrame).\n"
   ]
  },
  {
   "cell_type": "code",
   "execution_count": null,
   "metadata": {
    "collapsed": true
   },
   "outputs": [],
   "source": [
    "def get_top_images(assignments, cluster, k=5):\n",
    "\n",
    "    images_in_cluster = assignments[assignments['assignments'] == cluster]\n",
    "    top_images = images_in_cluster.topk('probs', k)\n",
    "    return top_images['image']"
   ]
  },
  {
   "cell_type": "markdown",
   "metadata": {},
   "source": [
    "Use this function to show the top 5 images in each cluster."
   ]
  },
  {
   "cell_type": "code",
   "execution_count": null,
   "metadata": {
    "collapsed": true
   },
   "outputs": [],
   "source": [
    "gl.canvas.set_target('ipynb')\n",
    "for component_id in range(4):\n",
    "    get_top_images(assignments, component_id).show()"
   ]
  },
  {
   "cell_type": "markdown",
   "metadata": {},
   "source": [
    "These look pretty good! Our algorithm seems to have done a good job overall at 'discovering' the four categories that from which our image data was drawn. It seems to have had the most difficulty in distinguishing between rivers and cloudy skies, probably due to the similar color profiles of images in these categories; if we wanted to achieve better performance on distinguishing between these categories, we might need a richer representation of our data than simply the average [R G B] values for each image."
   ]
  },
  {
   "cell_type": "markdown",
   "metadata": {},
   "source": [
    "# Question 6\n",
    "Four of the following images are not in the list of top 5 images in the first cluster. Choose these four."
   ]
  },
  {
   "cell_type": "code",
   "execution_count": null,
   "metadata": {
    "collapsed": true
   },
   "outputs": [],
   "source": []
  }
 ],
 "metadata": {
  "kernelspec": {
   "display_name": "Python [default]",
   "language": "python",
   "name": "python3"
  },
  "language_info": {
   "codemirror_mode": {
    "name": "ipython",
    "version": 3
   },
   "file_extension": ".py",
   "mimetype": "text/x-python",
   "name": "python",
   "nbconvert_exporter": "python",
   "pygments_lexer": "ipython3",
   "version": "3.6.2"
  }
 },
 "nbformat": 4,
 "nbformat_minor": 2
}
